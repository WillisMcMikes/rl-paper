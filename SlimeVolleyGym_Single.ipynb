{
  "nbformat": 4,
  "nbformat_minor": 0,
  "metadata": {
    "colab": {
      "name": "SlimeVolleyGym.ipynb",
      "provenance": [],
      "collapsed_sections": [],
      "toc_visible": true
    },
    "kernelspec": {
      "name": "python3",
      "display_name": "Python 3"
    },
    "language_info": {
      "name": "python"
    }
  },
  "cells": [
    {
      "cell_type": "code",
      "metadata": {
        "colab": {
          "base_uri": "https://localhost:8080/"
        },
        "id": "bmS359b1IMIh",
        "outputId": "eec3b009-9855-4f43-922e-a40853ed6e0f"
      },
      "source": [
        "!pip install slimevolleygym dm-sonnet trfl"
      ],
      "execution_count": null,
      "outputs": [
        {
          "output_type": "stream",
          "name": "stdout",
          "text": [
            "Collecting slimevolleygym\n",
            "  Downloading slimevolleygym-0.1.0-py3-none-any.whl (17 kB)\n",
            "Collecting dm-sonnet\n",
            "  Downloading dm_sonnet-2.0.0-py3-none-any.whl (254 kB)\n",
            "\u001b[K     |████████████████████████████████| 254 kB 12.5 MB/s \n",
            "\u001b[?25hCollecting trfl\n",
            "  Downloading trfl-1.2.0-py3-none-any.whl (104 kB)\n",
            "\u001b[K     |████████████████████████████████| 104 kB 61.0 MB/s \n",
            "\u001b[?25hRequirement already satisfied: numpy>=1.13.0 in /usr/local/lib/python3.7/dist-packages (from slimevolleygym) (1.19.5)\n",
            "Requirement already satisfied: gym>=0.9.4 in /usr/local/lib/python3.7/dist-packages (from slimevolleygym) (0.17.3)\n",
            "Requirement already satisfied: scipy in /usr/local/lib/python3.7/dist-packages (from gym>=0.9.4->slimevolleygym) (1.4.1)\n",
            "Requirement already satisfied: cloudpickle<1.7.0,>=1.2.0 in /usr/local/lib/python3.7/dist-packages (from gym>=0.9.4->slimevolleygym) (1.3.0)\n",
            "Requirement already satisfied: pyglet<=1.5.0,>=1.4.0 in /usr/local/lib/python3.7/dist-packages (from gym>=0.9.4->slimevolleygym) (1.5.0)\n",
            "Requirement already satisfied: future in /usr/local/lib/python3.7/dist-packages (from pyglet<=1.5.0,>=1.4.0->gym>=0.9.4->slimevolleygym) (0.16.0)\n",
            "Requirement already satisfied: six>=1.12.0 in /usr/local/lib/python3.7/dist-packages (from dm-sonnet) (1.15.0)\n",
            "Requirement already satisfied: wrapt>=1.11.1 in /usr/local/lib/python3.7/dist-packages (from dm-sonnet) (1.13.3)\n",
            "Requirement already satisfied: absl-py>=0.7.1 in /usr/local/lib/python3.7/dist-packages (from dm-sonnet) (0.12.0)\n",
            "Requirement already satisfied: tabulate>=0.7.5 in /usr/local/lib/python3.7/dist-packages (from dm-sonnet) (0.8.9)\n",
            "Requirement already satisfied: dm-tree>=0.1.1 in /usr/local/lib/python3.7/dist-packages (from dm-sonnet) (0.1.6)\n",
            "Installing collected packages: trfl, slimevolleygym, dm-sonnet\n",
            "Successfully installed dm-sonnet-2.0.0 slimevolleygym-0.1.0 trfl-1.2.0\n"
          ]
        }
      ]
    },
    {
      "cell_type": "code",
      "metadata": {
        "id": "8ZLv0_RSNq2c"
      },
      "source": [
        "import gym\n",
        "import slimevolleygym\n",
        "import numpy as np\n",
        "import tensorflow as tf\n",
        "from typing import NamedTuple\n",
        "import sonnet as snt\n",
        "import trfl\n",
        "import copy\n",
        "import matplotlib.pyplot as plt\n"
      ],
      "execution_count": null,
      "outputs": []
    },
    {
      "cell_type": "code",
      "metadata": {
        "id": "1lqTRl72N1uF"
      },
      "source": [
        "ACTION_LOOKUP = [\n",
        "  [0, 0, 0], # NOOP\n",
        "  [1, 0, 0], # LEFT (forward)\n",
        "  [1, 0, 1], # UPLEFT (forward jump)\n",
        "  [0, 0, 1], # UP (jump)\n",
        "  [0, 1, 1], # UPRIGHT (backward jump)\n",
        "  [0, 1, 0]  # RIGHT (backward)\n",
        "] "
      ],
      "execution_count": null,
      "outputs": []
    },
    {
      "cell_type": "code",
      "metadata": {
        "id": "g1jWMEx_N80f"
      },
      "source": [
        "\n",
        "def random_policy(obs):\n",
        "  action_id = np.random.randint(6)\n",
        "  return ACTION_LOOKUP[action_id], action_id\n"
      ],
      "execution_count": null,
      "outputs": []
    },
    {
      "cell_type": "code",
      "metadata": {
        "id": "AMFJ_AP4OB79"
      },
      "source": [
        "def run_one_episode(policy, env):\n",
        "  obs = env.reset()\n",
        "  done = False\n",
        "  total_reward = 0\n",
        "\n",
        "  while not done:\n",
        "    action, action_id = policy(obs)\n",
        "    obs, reward, done, info = env.step(action)\n",
        "    total_reward += reward\n",
        "    # env.render()\n",
        "\n",
        "  return total_reward"
      ],
      "execution_count": null,
      "outputs": []
    },
    {
      "cell_type": "code",
      "metadata": {
        "id": "2tXbW6UfOFlh"
      },
      "source": [
        "env = gym.make(\"SlimeVolley-v0\")\n"
      ],
      "execution_count": null,
      "outputs": []
    },
    {
      "cell_type": "code",
      "metadata": {
        "colab": {
          "base_uri": "https://localhost:8080/"
        },
        "id": "daustD1ROOcJ",
        "outputId": "e1e1e138-3b27-4765-953f-4db7d4476126"
      },
      "source": [
        "returns = []\n",
        "for episode in range(100):\n",
        "  reward = run_one_episode(random_policy, env)\n",
        "  returns.append(reward)\n",
        "  \n",
        "print(\"av. returns = \", np.mean(returns))\n",
        "\n"
      ],
      "execution_count": null,
      "outputs": [
        {
          "output_type": "stream",
          "name": "stdout",
          "text": [
            "av. returns =  -4.87\n"
          ]
        }
      ]
    },
    {
      "cell_type": "code",
      "metadata": {
        "id": "aIJ6yebgO80t"
      },
      "source": [
        "class Batch(NamedTuple):\n",
        "    \"\"\"Container for a batch of experience tuples.\"\"\"\n",
        "    observation: np.array\n",
        "    next_observation: np.array\n",
        "    reward: np.array\n",
        "    action: np.array\n",
        "    done: np.array\n",
        "\n",
        "\n",
        "class TransitionBuffer:\n",
        "\n",
        "    def __init__(\n",
        "        self,\n",
        "        observation_dim,\n",
        "        buffer_size=5000,  # Num episodes\n",
        "        batch_size=32\n",
        "    ):\n",
        "        self.observation_dim = observation_dim\n",
        "        self.buffer_size = buffer_size\n",
        "        self.batch_size = batch_size\n",
        "\n",
        "        observation_buffer_shape = (buffer_size, observation_dim)\n",
        "        self.observation_buffer = np.zeros(observation_buffer_shape, dtype='float32')\n",
        "        self.next_observation_buffer = np.zeros(observation_buffer_shape, dtype='float32')\n",
        "\n",
        "        action_buffer_shape = (buffer_size, )\n",
        "        self.action_buffer = np.zeros(action_buffer_shape, dtype='int32')\n",
        "        self.reward_buffer = np.zeros(action_buffer_shape, dtype='float32')\n",
        "        self.dones_buffer = np.zeros(action_buffer_shape, dtype='float32')\n",
        "\n",
        "        self.counter = 0\n",
        "\n",
        "    def can_sample_batch(self):\n",
        "        return self.counter >= self.batch_size  # Cannot sample more than the batch size\n",
        "\n",
        "    def add(\n",
        "        self,\n",
        "        batch: Batch,\n",
        "    ):\n",
        "        idx = self.counter % self.buffer_size  # FIFO\n",
        "\n",
        "        self.observation_buffer[idx] = batch.observation\n",
        "        self.next_observation_buffer[idx] = batch.next_observation\n",
        "        self.action_buffer[idx] = batch.action\n",
        "        self.reward_buffer[idx] = batch.reward\n",
        "        self.dones_buffer[idx] = batch.done\n",
        "\n",
        "        self.counter += 1\n",
        "\n",
        "    def sample(self):\n",
        "        assert self.can_sample_batch()\n",
        "\n",
        "        max_idx = min(self.counter, self.buffer_size)\n",
        "        idxs = np.random.choice(max_idx, size=self.batch_size, replace=True)\n",
        "\n",
        "        observation_batch = tf.convert_to_tensor(self.observation_buffer[idxs])\n",
        "        next_observation_batch = tf.convert_to_tensor(self.next_observation_buffer[idxs])\n",
        "        action_batch = tf.convert_to_tensor(self.action_buffer[idxs])\n",
        "        reward_batch = tf.convert_to_tensor(self.reward_buffer[idxs])\n",
        "        dones_batch = tf.convert_to_tensor(self.dones_buffer[idxs])\n",
        "\n",
        "        batch = Batch(\n",
        "            observation=observation_batch,\n",
        "            next_observation=next_observation_batch,\n",
        "            action=action_batch,\n",
        "            reward=reward_batch,\n",
        "            done=dones_batch,\n",
        "        )\n",
        "\n",
        "        return batch"
      ],
      "execution_count": null,
      "outputs": []
    },
    {
      "cell_type": "code",
      "metadata": {
        "id": "EC0wRQ1FPY-j"
      },
      "source": [
        "def run_one_episode(policy, env, replay):\n",
        "  obs = env.reset()\n",
        "  done = False\n",
        "  total_reward = 0\n",
        "\n",
        "  while not done:\n",
        "    action, action_id = policy(obs)\n",
        "    next_obs, reward, done, info = env.step(action)\n",
        "    batch = Batch(observation = obs, next_observation = next_obs, action = action_id, reward = reward, done = done)\n",
        "    replay.add(batch)\n",
        "    total_reward += reward\n",
        "    # env.render()\n",
        "    obs = next_obs\n",
        "\n",
        "  return total_reward"
      ],
      "execution_count": null,
      "outputs": []
    },
    {
      "cell_type": "code",
      "metadata": {
        "colab": {
          "base_uri": "https://localhost:8080/"
        },
        "id": "JzlY5o5ZRkUo",
        "outputId": "1a1028c7-e7fb-4da9-8e16-ed38a2def308"
      },
      "source": [
        "obs = env.reset()\n",
        "print(obs.shape)\n"
      ],
      "execution_count": null,
      "outputs": [
        {
          "output_type": "stream",
          "name": "stdout",
          "text": [
            "(12,)\n"
          ]
        }
      ]
    },
    {
      "cell_type": "code",
      "metadata": {
        "id": "pI1XflP5RNP0"
      },
      "source": [
        "replay = TransitionBuffer(12)"
      ],
      "execution_count": null,
      "outputs": []
    },
    {
      "cell_type": "code",
      "metadata": {
        "colab": {
          "base_uri": "https://localhost:8080/"
        },
        "id": "WuosIm2DRuLw",
        "outputId": "64626ea0-9911-420f-add7-af3f8f397657"
      },
      "source": [
        "run_one_episode(random_policy, env, replay)"
      ],
      "execution_count": null,
      "outputs": [
        {
          "output_type": "execute_result",
          "data": {
            "text/plain": [
              "-5"
            ]
          },
          "metadata": {},
          "execution_count": 27
        }
      ]
    },
    {
      "cell_type": "code",
      "metadata": {
        "colab": {
          "base_uri": "https://localhost:8080/"
        },
        "id": "I1cVWebTR5el",
        "outputId": "c2b27977-a051-45ea-9826-b8cf9b978a5c"
      },
      "source": [
        "returns = []\n",
        "for episode in range(100):\n",
        "  reward = run_one_episode(random_policy, env, replay)\n",
        "  returns.append(reward)\n",
        "  \n",
        "print(\"av. returns = \", np.mean(returns))"
      ],
      "execution_count": null,
      "outputs": [
        {
          "output_type": "stream",
          "name": "stdout",
          "text": [
            "av. returns =  -4.84\n"
          ]
        }
      ]
    },
    {
      "cell_type": "code",
      "metadata": {
        "id": "rRcLa7oVSyqb"
      },
      "source": [
        "batch = replay.sample()"
      ],
      "execution_count": null,
      "outputs": []
    },
    {
      "cell_type": "code",
      "metadata": {
        "id": "vUdjTRWbS4dL"
      },
      "source": [
        "class Actor:\n",
        "  def __init__(self, num_actions, q_net, eps_decay = 0.999995, eps_min=0.05):\n",
        "    self.eps_decay = eps_decay\n",
        "    self.eps_min = eps_min\n",
        "    self.eps = 1\n",
        "    self.num_actions = num_actions\n",
        "    self.q_net = q_net\n",
        "\n",
        "  def policy(self, obs):\n",
        "    if np.random.random() < self.eps:\n",
        "      action_id = np.random.randint(6)\n",
        "    else: \n",
        "      obs = tf.convert_to_tensor(obs, dtype = 'float32')\n",
        "      obs = tf.reshape(obs, (1,-1))\n",
        "      q_values = self.q_net(obs)\n",
        "      action_id = tf.argmax(q_values, axis = -1).numpy()[0]\n",
        "    action = ACTION_LOOKUP[action_id]\n",
        "    self.decrement_epsilon()\n",
        "    return action, action_id\n",
        "\n",
        "  def decrement_epsilon(self):\n",
        "    self.eps = max(self.eps_min, self.eps_decay*self.eps)\n"
      ],
      "execution_count": null,
      "outputs": []
    },
    {
      "cell_type": "code",
      "metadata": {
        "id": "fZY_WsopTJWh"
      },
      "source": [
        "q_net = snt.nets.MLP((64, 6))\n",
        "actor = Actor(6, q_net)"
      ],
      "execution_count": null,
      "outputs": []
    },
    {
      "cell_type": "code",
      "metadata": {
        "id": "Jr-2xistWDbz"
      },
      "source": [
        "def run_one_episode(actor, env, replay):\n",
        "  obs = env.reset()\n",
        "  done = False\n",
        "  counter = 0\n",
        "  total_reward = 0\n",
        "\n",
        "  while not done:\n",
        "    action, action_id = actor.policy(obs)\n",
        "    #print(actor.eps)\n",
        "    next_obs, reward, done, info = env.step(action)\n",
        "    batch = Batch(observation = obs, next_observation = next_obs, action = action_id, reward = reward, done = done)\n",
        "    replay.add(batch)\n",
        "    total_reward += reward\n",
        "    # env.render()\n",
        "    obs = next_obs\n",
        "    counter += 1\n",
        "\n",
        "  return total_reward, counter"
      ],
      "execution_count": null,
      "outputs": []
    },
    {
      "cell_type": "code",
      "metadata": {
        "colab": {
          "base_uri": "https://localhost:8080/"
        },
        "id": "Xc8fyASnWT_n",
        "outputId": "711cbf10-81a3-4f0b-e001-bdbce18f0852"
      },
      "source": [
        "run_one_episode(actor, env, replay)"
      ],
      "execution_count": null,
      "outputs": [
        {
          "output_type": "execute_result",
          "data": {
            "text/plain": [
              "-5"
            ]
          },
          "metadata": {},
          "execution_count": 59
        }
      ]
    },
    {
      "cell_type": "code",
      "metadata": {
        "id": "Ac4kybLzWaBs"
      },
      "source": [
        "class Learner:\n",
        "  def __init__(self, q_net, target_q_net, lr = 5e-4, discount = 0.99, target_update_period = 100):\n",
        "    self.q_net = q_net\n",
        "    self.target_q_net = target_q_net\n",
        "    self.lr = lr\n",
        "    self.discount = discount\n",
        "    self.target_update_period = target_update_period\n",
        "    self.optimiser = snt.optimizers.Adam(lr)\n",
        "    self.learning_steps = 0 \n",
        "\n",
        "\n",
        "  @tf.function\n",
        "  def learn(self, batch):\n",
        "    obs = batch.observation\n",
        "    next_obs = batch.next_observation\n",
        "    action_id = batch.action\n",
        "    reward = batch.reward\n",
        "    done = batch.done\n",
        "\n",
        "    with tf.GradientTape() as tape:\n",
        "\n",
        "      q_values = self.q_net(obs)  #[B, Act]\n",
        "      selected_q_value = trfl.batched_index(q_values, action_id) #[B]\n",
        "\n",
        "      # Standard Q-learning\n",
        "      next_q_values = self.target_q_net(next_obs)\n",
        "      max_next_q_value = tf.reduce_max(next_q_values, axis=-1)\n",
        "\n",
        "      # Bellman target\n",
        "      target = reward + self.discount * (1 - done) * max_next_q_value\n",
        "\n",
        "      # Temporal difference\n",
        "      td_error = selected_q_value - target\n",
        "\n",
        "      # Mean-squared error\n",
        "      loss = tf.reduce_mean(td_error ** 2)\n",
        "\n",
        "\n",
        "    variables = self.q_net.trainable_variables #from sonnet\n",
        "    gradients = tape.gradient(loss, variables)\n",
        "    self.optimiser.apply(updates=gradients, parameters=variables)\n",
        "\n",
        "    #self._update_target_network()\n",
        "\n",
        "    return loss\n",
        "\n",
        "  def _update_target_network(self):\n",
        "        \"\"\"Update target network.\"\"\"\n",
        "        if self.learning_steps % self.target_update_period == 0:\n",
        "            online_variables = (*self.q_net.variables,)\n",
        "            target_variables = (*self.target_q_net.variables,)\n",
        "\n",
        "            for src, dest in zip(online_variables, target_variables):\n",
        "                dest.assign(src)\n",
        "\n",
        "        self.learning_steps += 1"
      ],
      "execution_count": null,
      "outputs": []
    },
    {
      "cell_type": "code",
      "metadata": {
        "id": "9ba0pX0Hdmqm"
      },
      "source": [
        "\n",
        "target_q_net = copy.deepcopy(q_net)\n",
        "learner = Learner(q_net, target_q_net)\n"
      ],
      "execution_count": null,
      "outputs": []
    },
    {
      "cell_type": "code",
      "metadata": {
        "colab": {
          "base_uri": "https://localhost:8080/"
        },
        "id": "5S0kXdE7eKNI",
        "outputId": "d331b080-31d4-42b1-8b66-ae9152d5fdc2"
      },
      "source": [
        "batch = replay.sample()\n",
        "learner.learn(batch)"
      ],
      "execution_count": null,
      "outputs": [
        {
          "output_type": "execute_result",
          "data": {
            "text/plain": [
              "<tf.Tensor: shape=(), dtype=float32, numpy=0.07789205>"
            ]
          },
          "metadata": {},
          "execution_count": 82
        }
      ]
    },
    {
      "cell_type": "code",
      "metadata": {
        "id": "MOFLLc28eRW_"
      },
      "source": [
        "def train(learner, actor, replay_buffer, env, num_episodes = 10000, learner_steps_per_episode = 100):\n",
        "\n",
        "  episode_returns = []\n",
        "  ep_lengths = []\n",
        "\n",
        "  for episode in range(num_episodes):\n",
        "\n",
        "    episode_return, ep_length = run_one_episode(actor, env, replay_buffer)\n",
        "    episode_returns.append(episode_return)\n",
        "    ep_lengths.append(ep_length)\n",
        "\n",
        "    losses = []\n",
        "    for learner_step in range(learner_steps_per_episode):\n",
        "      batch = replay.sample()\n",
        "      loss = learner.learn(batch)\n",
        "      learner._update_target_network()\n",
        "      losses.append(loss)\n",
        "    \n",
        "    if episode % 10 == 0:\n",
        "      print(f\"episode: {episode}  episode_return: {episode_return}  epsiode length: {np.mean(ep_lengths[-50:])}  smoothed episode return: {np.mean(episode_returns[-50:])}  epsilon: {actor.eps} loss: {np.mean(losses)}\")\n"
      ],
      "execution_count": null,
      "outputs": []
    },
    {
      "cell_type": "code",
      "metadata": {
        "colab": {
          "base_uri": "https://localhost:8080/",
          "height": 1000
        },
        "id": "S6IBdEGQhPdS",
        "outputId": "78e11d6b-1dfb-4074-fae1-b01d38d08fb5"
      },
      "source": [
        "q_net = snt.nets.MLP((64, 6))\n",
        "target_q_net = copy.deepcopy(q_net)\n",
        "actor = Actor(6, target_q_net, eps_decay = 0.999999)\n",
        "learner = Learner(q_net, target_q_net)\n",
        "replay = TransitionBuffer(12, buffer_size = 1_000_000)\n",
        "\n",
        "\n",
        "train(learner, actor, replay, env)"
      ],
      "execution_count": null,
      "outputs": [
        {
          "output_type": "stream",
          "name": "stdout",
          "text": [
            "episode: 0  episode_return: -5  epsiode length: 621.0  smoothed episode return: -5.0  epsilon: 0.9993791924702655 loss: 0.5677425265312195\n",
            "episode: 10  episode_return: -5  epsiode length: 563.2727272727273  smoothed episode return: -5.0  epsilon: 0.9938231525457847 loss: 0.05183618143200874\n",
            "episode: 20  episode_return: -5  epsiode length: 553.2857142857143  smoothed episode return: -5.0  epsilon: 0.9884482341656537 loss: 0.06915715336799622\n",
            "episode: 30  episode_return: -5  epsiode length: 562.516129032258  smoothed episode return: -4.967741935483871  epsilon: 0.9827131534236025 loss: 0.10333018004894257\n",
            "episode: 40  episode_return: -5  epsiode length: 551.439024390244  smoothed episode return: -4.926829268292683  epsilon: 0.9776446570641721 loss: 0.08467869460582733\n",
            "episode: 50  episode_return: -5  epsiode length: 557.56  smoothed episode return: -4.92  epsilon: 0.9719032521989738 loss: 0.0970364660024643\n",
            "episode: 60  episode_return: -5  epsiode length: 572.88  smoothed episode return: -4.88  epsilon: 0.9657599086600601 loss: 0.07021546363830566\n",
            "episode: 70  episode_return: -5  epsiode length: 571.66  smoothed episode return: -4.88  epsilon: 0.9605953599762711 loss: 0.04500806704163551\n",
            "episode: 80  episode_return: -5  epsiode length: 569.94  smoothed episode return: -4.9  epsilon: 0.9551040199982014 loss: 0.10605012625455856\n",
            "episode: 90  episode_return: -5  epsiode length: 582.28  smoothed episode return: -4.92  epsilon: 0.9495918428035972 loss: 0.0917530357837677\n",
            "episode: 100  episode_return: -5  epsiode length: 574.12  smoothed episode return: -4.94  epsilon: 0.9444004204154454 loss: 0.07660945504903793\n",
            "episode: 110  episode_return: -5  epsiode length: 555.64  smoothed episode return: -4.96  epsilon: 0.9392984319985602 loss: 0.0861155092716217\n",
            "episode: 120  episode_return: -5  epsiode length: 559.2  smoothed episode return: -4.94  epsilon: 0.9341091038019795 loss: 0.09638132899999619\n",
            "episode: 130  episode_return: -4  epsiode length: 560.72  smoothed episode return: -4.88  epsilon: 0.9286985913605448 loss: 0.09799262881278992\n",
            "episode: 140  episode_return: -5  epsiode length: 562.1  smoothed episode return: -4.88  epsilon: 0.9232750991999966 loss: 0.0935242548584938\n",
            "episode: 150  episode_return: -5  epsiode length: 562.2  smoothed episode return: -4.86  epsilon: 0.918222959425413 loss: 0.07004649937152863\n",
            "episode: 160  episode_return: -5  epsiode length: 562.02  smoothed episode return: -4.86  epsilon: 0.9132706104061629 loss: 0.06794814765453339\n",
            "episode: 170  episode_return: -5  epsiode length: 561.16  smoothed episode return: -4.84  epsilon: 0.9082641322692728 loss: 0.09310266375541687\n",
            "episode: 180  episode_return: -5  epsiode length: 547.06  smoothed episode return: -4.9  epsilon: 0.9036401602408571 loss: 0.09966330230236053\n",
            "episode: 190  episode_return: -5  epsiode length: 554.1  smoothed episode return: -4.88  epsilon: 0.8980468381269333 loss: 0.06967863440513611\n",
            "episode: 200  episode_return: -5  epsiode length: 550.3  smoothed episode return: -4.88  epsilon: 0.8933024582364237 loss: 0.07936402410268784\n",
            "episode: 210  episode_return: -5  epsiode length: 547.52  smoothed episode return: -4.88  epsilon: 0.8886080235854292 loss: 0.053365014493465424\n",
            "episode: 220  episode_return: -5  epsiode length: 547.9  smoothed episode return: -4.92  epsilon: 0.8837199529757017 loss: 0.07857229560613632\n",
            "episode: 230  episode_return: -5  epsiode length: 577.76  smoothed episode return: -4.84  epsilon: 0.8779092372599092 loss: 0.07358910888433456\n",
            "episode: 240  episode_return: -5  epsiode length: 572.18  smoothed episode return: -4.86  epsilon: 0.8727186382242245 loss: 0.048210516571998596\n",
            "episode: 250  episode_return: -5  epsiode length: 572.64  smoothed episode return: -4.88  epsilon: 0.8680881009040213 loss: 0.05067377910017967\n",
            "episode: 260  episode_return: -5  epsiode length: 596.54  smoothed episode return: -4.86  epsilon: 0.8624948734095516 loss: 0.05622922256588936\n",
            "episode: 270  episode_return: -5  epsiode length: 608.24  smoothed episode return: -4.86  epsilon: 0.8572488089558136 loss: 0.039629265666007996\n",
            "episode: 280  episode_return: -4  epsiode length: 580.16  smoothed episode return: -4.9  epsilon: 0.8528086525151327 loss: 0.0713963583111763\n",
            "episode: 290  episode_return: -5  epsiode length: 577.24  smoothed episode return: -4.92  epsilon: 0.8478902425631949 loss: 0.05827740207314491\n",
            "episode: 300  episode_return: -5  epsiode length: 592.64  smoothed episode return: -4.88  epsilon: 0.8427422798689361 loss: 0.057960543781518936\n",
            "episode: 310  episode_return: -5  epsiode length: 585.82  smoothed episode return: -4.88  epsilon: 0.8375979318108354 loss: 0.05100921168923378\n",
            "episode: 320  episode_return: -5  epsiode length: 588.26  smoothed episode return: -4.84  epsilon: 0.8324017419963888 loss: 0.048388078808784485\n",
            "episode: 330  episode_return: -5  epsiode length: 604.44  smoothed episode return: -4.88  epsilon: 0.8274206275280469 loss: 0.05822158232331276\n",
            "episode: 340  episode_return: -5  epsiode length: 607.98  smoothed episode return: -4.86  epsilon: 0.822503042133274 loss: 0.04654552787542343\n",
            "episode: 350  episode_return: -5  epsiode length: 593.42  smoothed episode return: -4.9  epsilon: 0.8181045814334961 loss: 0.03592413663864136\n",
            "episode: 360  episode_return: -5  epsiode length: 600.04  smoothed episode return: -4.88  epsilon: 0.8128415339564159 loss: 0.04726243019104004\n",
            "episode: 370  episode_return: -5  epsiode length: 602.64  smoothed episode return: -4.92  epsilon: 0.8076939178332538 loss: 0.03862564265727997\n",
            "episode: 380  episode_return: -4  epsiode length: 614.1  smoothed episode return: -4.86  epsilon: 0.8024007480413728 loss: 0.04582972452044487\n",
            "episode: 390  episode_return: -4  epsiode length: 625.84  smoothed episode return: -4.8  epsilon: 0.7971637898375106 loss: 0.06401397287845612\n",
            "episode: 400  episode_return: -5  epsiode length: 653.18  smoothed episode return: -4.8  epsilon: 0.7918176791841778 loss: 0.047761477530002594\n",
            "episode: 410  episode_return: -5  epsiode length: 650.94  smoothed episode return: -4.82  epsilon: 0.7868118591931687 loss: 0.031131932511925697\n",
            "episode: 420  episode_return: -5  epsiode length: 643.7  smoothed episode return: -4.8  epsilon: 0.7821121590035068 loss: 0.04969727620482445\n",
            "episode: 430  episode_return: -5  epsiode length: 634.9  smoothed episode return: -4.84  epsilon: 0.7773285871265895 loss: 0.05639788508415222\n",
            "episode: 440  episode_return: -5  epsiode length: 630.28  smoothed episode return: -4.88  epsilon: 0.7724336768456403 loss: 0.03741934895515442\n",
            "episode: 450  episode_return: -5  epsiode length: 627.9  smoothed episode return: -4.88  epsilon: 0.767344725211131 loss: 0.04440554976463318\n",
            "episode: 460  episode_return: -5  epsiode length: 606.24  smoothed episode return: -4.92  epsilon: 0.763319849974486 loss: 0.04443270340561867\n",
            "episode: 470  episode_return: -5  epsiode length: 621.94  smoothed episode return: -4.84  epsilon: 0.7581650761901987 loss: 0.03938568755984306\n",
            "episode: 480  episode_return: -5  epsiode length: 618.0  smoothed episode return: -4.84  epsilon: 0.7536764297038265 loss: 0.042335301637649536\n",
            "episode: 490  episode_return: -5  epsiode length: 600.64  smoothed episode return: -4.86  epsilon: 0.7495808134307639 loss: 0.03686056658625603\n",
            "episode: 500  episode_return: -5  epsiode length: 593.98  smoothed episode return: -4.82  epsilon: 0.7448904284930425 loss: 0.048013411462306976\n",
            "episode: 510  episode_return: -5  epsiode length: 609.9  smoothed episode return: -4.82  epsilon: 0.7403937421564374 loss: 0.03544069081544876\n",
            "episode: 520  episode_return: -3  epsiode length: 601.24  smoothed episode return: -4.84  epsilon: 0.7357122852456726 loss: 0.026199445128440857\n",
            "episode: 530  episode_return: -5  epsiode length: 607.58  smoothed episode return: -4.84  epsilon: 0.7311247650342602 loss: 0.026181606575846672\n",
            "episode: 540  episode_return: -5  epsiode length: 618.1  smoothed episode return: -4.84  epsilon: 0.7267693172432858 loss: 0.04279710352420807\n",
            "episode: 550  episode_return: -5  epsiode length: 600.72  smoothed episode return: -4.88  epsilon: 0.7228495554049158 loss: 0.031747881323099136\n",
            "episode: 560  episode_return: -5  epsiode length: 602.06  smoothed episode return: -4.84  epsilon: 0.7184377864245787 loss: 0.03825484588742256\n",
            "episode: 570  episode_return: -5  epsiode length: 616.22  smoothed episode return: -4.86  epsilon: 0.7133898963186318 loss: 0.03256342560052872\n",
            "episode: 580  episode_return: -5  epsiode length: 609.3  smoothed episode return: -4.86  epsilon: 0.7091869032919718 loss: 0.025284377858042717\n",
            "episode: 590  episode_return: -5  epsiode length: 609.0  smoothed episode return: -4.86  epsilon: 0.7049727179878935 loss: 0.019814493134617805\n",
            "episode: 600  episode_return: -5  epsiode length: 616.5  smoothed episode return: -4.82  epsilon: 0.7009076242746821 loss: 0.023648055270314217\n",
            "episode: 610  episode_return: -5  epsiode length: 614.98  smoothed episode return: -4.84  epsilon: 0.6966827194229115 loss: 0.034744396805763245\n",
            "episode: 620  episode_return: -5  epsiode length: 587.16  smoothed episode return: -4.86  epsilon: 0.6927506315706754 loss: 0.04293570667505264\n",
            "episode: 630  episode_return: -5  epsiode length: 574.72  smoothed episode return: -4.88  epsilon: 0.6890977221300669 loss: 0.02807675302028656\n",
            "episode: 640  episode_return: -5  epsiode length: 585.5  smoothed episode return: -4.86  epsilon: 0.6846337950448216 loss: 0.028213968500494957\n",
            "episode: 650  episode_return: -3  epsiode length: 602.04  smoothed episode return: -4.78  epsilon: 0.6801232870558874 loss: 0.017658310011029243\n",
            "episode: 660  episode_return: -5  epsiode length: 610.86  smoothed episode return: -4.76  epsilon: 0.6757256043991219 loss: 0.01792316883802414\n",
            "episode: 670  episode_return: -5  epsiode length: 614.66  smoothed episode return: -4.8  epsilon: 0.6717841476440939 loss: 0.0238412506878376\n",
            "episode: 680  episode_return: -5  epsiode length: 635.16  smoothed episode return: -4.78  epsilon: 0.6675571982767098 loss: 0.02442888915538788\n",
            "episode: 690  episode_return: -5  epsiode length: 621.82  smoothed episode return: -4.8  epsilon: 0.6636753332762212 loss: 0.023448290303349495\n",
            "episode: 700  episode_return: -4  epsiode length: 609.84  smoothed episode return: -4.9  epsilon: 0.6596979448758843 loss: 0.02422095276415348\n",
            "episode: 710  episode_return: -4  epsiode length: 596.52  smoothed episode return: -4.9  epsilon: 0.6558689961910111 loss: 0.017981141805648804\n",
            "episode: 720  episode_return: -5  epsiode length: 586.72  smoothed episode return: -4.9  epsilon: 0.6523629412395298 loss: 0.019619330763816833\n",
            "episode: 730  episode_return: -4  epsiode length: 582.3  smoothed episode return: -4.88  epsilon: 0.6484014734812786 loss: 0.02226618118584156\n",
            "episode: 740  episode_return: -5  epsiode length: 578.92  smoothed episode return: -4.9  epsilon: 0.6447399514908866 loss: 0.01966690830886364\n",
            "episode: 750  episode_return: -5  epsiode length: 583.52  smoothed episode return: -4.88  epsilon: 0.6407286577101242 loss: 0.025532765313982964\n",
            "episode: 760  episode_return: -5  epsiode length: 580.94  smoothed episode return: -4.9  epsilon: 0.6370919881522218 loss: 0.020804090425372124\n",
            "episode: 770  episode_return: -5  epsiode length: 591.1  smoothed episode return: -4.84  epsilon: 0.6333644777134191 loss: 0.022535398602485657\n",
            "episode: 780  episode_return: -5  epsiode length: 592.48  smoothed episode return: -4.84  epsilon: 0.6294749426530387 loss: 0.026295874267816544\n",
            "episode: 790  episode_return: -5  epsiode length: 606.9  smoothed episode return: -4.84  epsilon: 0.6254691726387671 loss: 0.016230909153819084\n",
            "episode: 800  episode_return: -5  epsiode length: 604.86  smoothed episode return: -4.86  epsilon: 0.6216411775270633 loss: 0.016209833323955536\n",
            "episode: 810  episode_return: -5  epsiode length: 596.18  smoothed episode return: -4.84  epsilon: 0.6183811646700083 loss: 0.025614676997065544\n",
            "episode: 820  episode_return: -5  epsiode length: 597.52  smoothed episode return: -4.88  epsilon: 0.6147219401179415 loss: 0.023761870339512825\n"
          ]
        },
        {
          "output_type": "error",
          "ename": "KeyboardInterrupt",
          "evalue": "ignored",
          "traceback": [
            "\u001b[0;31m---------------------------------------------------------------------------\u001b[0m",
            "\u001b[0;31mKeyboardInterrupt\u001b[0m                         Traceback (most recent call last)",
            "\u001b[0;32m<ipython-input-17-b4758f4a9a7f>\u001b[0m in \u001b[0;36m<module>\u001b[0;34m()\u001b[0m\n\u001b[1;32m      6\u001b[0m \u001b[0;34m\u001b[0m\u001b[0m\n\u001b[1;32m      7\u001b[0m \u001b[0;34m\u001b[0m\u001b[0m\n\u001b[0;32m----> 8\u001b[0;31m \u001b[0mtrain\u001b[0m\u001b[0;34m(\u001b[0m\u001b[0mlearner\u001b[0m\u001b[0;34m,\u001b[0m \u001b[0mactor\u001b[0m\u001b[0;34m,\u001b[0m \u001b[0mreplay\u001b[0m\u001b[0;34m,\u001b[0m \u001b[0menv\u001b[0m\u001b[0;34m)\u001b[0m\u001b[0;34m\u001b[0m\u001b[0;34m\u001b[0m\u001b[0m\n\u001b[0m",
            "\u001b[0;32m<ipython-input-15-ab2c1ae043cb>\u001b[0m in \u001b[0;36mtrain\u001b[0;34m(learner, actor, replay_buffer, env, num_episodes, learner_steps_per_episode)\u001b[0m\n\u001b[1;32m     13\u001b[0m     \u001b[0;32mfor\u001b[0m \u001b[0mlearner_step\u001b[0m \u001b[0;32min\u001b[0m \u001b[0mrange\u001b[0m\u001b[0;34m(\u001b[0m\u001b[0mlearner_steps_per_episode\u001b[0m\u001b[0;34m)\u001b[0m\u001b[0;34m:\u001b[0m\u001b[0;34m\u001b[0m\u001b[0;34m\u001b[0m\u001b[0m\n\u001b[1;32m     14\u001b[0m       \u001b[0mbatch\u001b[0m \u001b[0;34m=\u001b[0m \u001b[0mreplay\u001b[0m\u001b[0;34m.\u001b[0m\u001b[0msample\u001b[0m\u001b[0;34m(\u001b[0m\u001b[0;34m)\u001b[0m\u001b[0;34m\u001b[0m\u001b[0;34m\u001b[0m\u001b[0m\n\u001b[0;32m---> 15\u001b[0;31m       \u001b[0mloss\u001b[0m \u001b[0;34m=\u001b[0m \u001b[0mlearner\u001b[0m\u001b[0;34m.\u001b[0m\u001b[0mlearn\u001b[0m\u001b[0;34m(\u001b[0m\u001b[0mbatch\u001b[0m\u001b[0;34m)\u001b[0m\u001b[0;34m\u001b[0m\u001b[0;34m\u001b[0m\u001b[0m\n\u001b[0m\u001b[1;32m     16\u001b[0m       \u001b[0mlearner\u001b[0m\u001b[0;34m.\u001b[0m\u001b[0m_update_target_network\u001b[0m\u001b[0;34m(\u001b[0m\u001b[0;34m)\u001b[0m\u001b[0;34m\u001b[0m\u001b[0;34m\u001b[0m\u001b[0m\n\u001b[1;32m     17\u001b[0m       \u001b[0mlosses\u001b[0m\u001b[0;34m.\u001b[0m\u001b[0mappend\u001b[0m\u001b[0;34m(\u001b[0m\u001b[0mloss\u001b[0m\u001b[0;34m)\u001b[0m\u001b[0;34m\u001b[0m\u001b[0;34m\u001b[0m\u001b[0m\n",
            "\u001b[0;32m/usr/local/lib/python3.7/dist-packages/tensorflow/python/eager/def_function.py\u001b[0m in \u001b[0;36m__call__\u001b[0;34m(self, *args, **kwds)\u001b[0m\n\u001b[1;32m    894\u001b[0m       \u001b[0;32mif\u001b[0m \u001b[0mwithout_tracing\u001b[0m\u001b[0;34m:\u001b[0m\u001b[0;34m\u001b[0m\u001b[0;34m\u001b[0m\u001b[0m\n\u001b[1;32m    895\u001b[0m         _frequent_tracing_detector_manager.called_without_tracing(\n\u001b[0;32m--> 896\u001b[0;31m             self._key_for_call_stats)\n\u001b[0m\u001b[1;32m    897\u001b[0m       \u001b[0;32melse\u001b[0m\u001b[0;34m:\u001b[0m\u001b[0;34m\u001b[0m\u001b[0;34m\u001b[0m\u001b[0m\n\u001b[1;32m    898\u001b[0m         _frequent_tracing_detector_manager.called_with_tracing(\n",
            "\u001b[0;32m/usr/local/lib/python3.7/dist-packages/tensorflow/python/eager/def_function.py\u001b[0m in \u001b[0;36mcalled_without_tracing\u001b[0;34m(self, key)\u001b[0m\n\u001b[1;32m    185\u001b[0m   \u001b[0;32mdef\u001b[0m \u001b[0mcalled_without_tracing\u001b[0m\u001b[0;34m(\u001b[0m\u001b[0mself\u001b[0m\u001b[0;34m,\u001b[0m \u001b[0mkey\u001b[0m\u001b[0;34m)\u001b[0m\u001b[0;34m:\u001b[0m\u001b[0;34m\u001b[0m\u001b[0;34m\u001b[0m\u001b[0m\n\u001b[1;32m    186\u001b[0m     \u001b[0;32mwith\u001b[0m \u001b[0mself\u001b[0m\u001b[0;34m.\u001b[0m\u001b[0m_lock\u001b[0m\u001b[0;34m:\u001b[0m\u001b[0;34m\u001b[0m\u001b[0;34m\u001b[0m\u001b[0m\n\u001b[0;32m--> 187\u001b[0;31m       \u001b[0mdetector\u001b[0m \u001b[0;34m=\u001b[0m \u001b[0mself\u001b[0m\u001b[0;34m.\u001b[0m\u001b[0m_get_detector\u001b[0m\u001b[0;34m(\u001b[0m\u001b[0mkey\u001b[0m\u001b[0;34m)\u001b[0m\u001b[0;34m\u001b[0m\u001b[0;34m\u001b[0m\u001b[0m\n\u001b[0m\u001b[1;32m    188\u001b[0m       \u001b[0mdetector\u001b[0m\u001b[0;34m.\u001b[0m\u001b[0mcalled_without_tracing\u001b[0m\u001b[0;34m(\u001b[0m\u001b[0;34m)\u001b[0m\u001b[0;34m\u001b[0m\u001b[0;34m\u001b[0m\u001b[0m\n\u001b[1;32m    189\u001b[0m \u001b[0;34m\u001b[0m\u001b[0m\n",
            "\u001b[0;32m/usr/local/lib/python3.7/dist-packages/tensorflow/python/eager/def_function.py\u001b[0m in \u001b[0;36m_get_detector\u001b[0;34m(self, key)\u001b[0m\n\u001b[1;32m    179\u001b[0m \u001b[0;34m\u001b[0m\u001b[0m\n\u001b[1;32m    180\u001b[0m   \u001b[0;32mdef\u001b[0m \u001b[0m_get_detector\u001b[0m\u001b[0;34m(\u001b[0m\u001b[0mself\u001b[0m\u001b[0;34m,\u001b[0m \u001b[0mkey\u001b[0m\u001b[0;34m)\u001b[0m\u001b[0;34m:\u001b[0m\u001b[0;34m\u001b[0m\u001b[0;34m\u001b[0m\u001b[0m\n\u001b[0;32m--> 181\u001b[0;31m     \u001b[0;32mif\u001b[0m \u001b[0mkey\u001b[0m \u001b[0;32mnot\u001b[0m \u001b[0;32min\u001b[0m \u001b[0mself\u001b[0m\u001b[0;34m.\u001b[0m\u001b[0m_detectors\u001b[0m\u001b[0;34m:\u001b[0m\u001b[0;34m\u001b[0m\u001b[0;34m\u001b[0m\u001b[0m\n\u001b[0m\u001b[1;32m    182\u001b[0m       \u001b[0mself\u001b[0m\u001b[0;34m.\u001b[0m\u001b[0m_detectors\u001b[0m\u001b[0;34m[\u001b[0m\u001b[0mkey\u001b[0m\u001b[0;34m]\u001b[0m \u001b[0;34m=\u001b[0m \u001b[0m_FrequentTracingDetector\u001b[0m\u001b[0;34m(\u001b[0m\u001b[0;34m)\u001b[0m\u001b[0;34m\u001b[0m\u001b[0;34m\u001b[0m\u001b[0m\n\u001b[1;32m    183\u001b[0m     \u001b[0;32mreturn\u001b[0m \u001b[0mself\u001b[0m\u001b[0;34m.\u001b[0m\u001b[0m_detectors\u001b[0m\u001b[0;34m[\u001b[0m\u001b[0mkey\u001b[0m\u001b[0;34m]\u001b[0m\u001b[0;34m\u001b[0m\u001b[0;34m\u001b[0m\u001b[0m\n",
            "\u001b[0;32m/usr/lib/python3.7/weakref.py\u001b[0m in \u001b[0;36m__contains__\u001b[0;34m(self, key)\u001b[0m\n\u001b[1;32m    433\u001b[0m         \u001b[0;32mreturn\u001b[0m \u001b[0mself\u001b[0m\u001b[0;34m.\u001b[0m\u001b[0mdata\u001b[0m\u001b[0;34m.\u001b[0m\u001b[0mget\u001b[0m\u001b[0;34m(\u001b[0m\u001b[0mref\u001b[0m\u001b[0;34m(\u001b[0m\u001b[0mkey\u001b[0m\u001b[0;34m)\u001b[0m\u001b[0;34m,\u001b[0m\u001b[0mdefault\u001b[0m\u001b[0;34m)\u001b[0m\u001b[0;34m\u001b[0m\u001b[0;34m\u001b[0m\u001b[0m\n\u001b[1;32m    434\u001b[0m \u001b[0;34m\u001b[0m\u001b[0m\n\u001b[0;32m--> 435\u001b[0;31m     \u001b[0;32mdef\u001b[0m \u001b[0m__contains__\u001b[0m\u001b[0;34m(\u001b[0m\u001b[0mself\u001b[0m\u001b[0;34m,\u001b[0m \u001b[0mkey\u001b[0m\u001b[0;34m)\u001b[0m\u001b[0;34m:\u001b[0m\u001b[0;34m\u001b[0m\u001b[0;34m\u001b[0m\u001b[0m\n\u001b[0m\u001b[1;32m    436\u001b[0m         \u001b[0;32mtry\u001b[0m\u001b[0;34m:\u001b[0m\u001b[0;34m\u001b[0m\u001b[0;34m\u001b[0m\u001b[0m\n\u001b[1;32m    437\u001b[0m             \u001b[0mwr\u001b[0m \u001b[0;34m=\u001b[0m \u001b[0mref\u001b[0m\u001b[0;34m(\u001b[0m\u001b[0mkey\u001b[0m\u001b[0;34m)\u001b[0m\u001b[0;34m\u001b[0m\u001b[0;34m\u001b[0m\u001b[0m\n",
            "\u001b[0;31mKeyboardInterrupt\u001b[0m: "
          ]
        }
      ]
    },
    {
      "cell_type": "code",
      "metadata": {
        "id": "6-wFvjzMkNkw",
        "colab": {
          "base_uri": "https://localhost:8080/"
        },
        "outputId": "3ad6f041-d76d-49dc-f823-833405e47dad"
      },
      "source": [
        "LEARN_EVERY = 8\n",
        "\n",
        "q_net = snt.nets.MLP((128,128, 6))\n",
        "target_q_net = copy.deepcopy(q_net)\n",
        "\n",
        "actor = Actor(6, target_q_net)\n",
        "learner = Learner(q_net, target_q_net)\n",
        "replay = TransitionBuffer(12, batch_size=256, buffer_size=1000000)\n",
        "\n",
        "env = gym.make(\"SlimeVolley-v0\")\n",
        "\n",
        "t = 0\n",
        "returns = []\n",
        "lens = []\n",
        "losses = []\n",
        "for e in range(4000):\n",
        "    done = False\n",
        "    ep_return = 0\n",
        "    obs = env.reset()\n",
        "    ep_len = 0\n",
        "    while not done:\n",
        "\n",
        "        action, action_id = actor.policy(obs)\n",
        "\n",
        "        next_obs, reward, done, _ = env.step(action)\n",
        "\n",
        "        batch = Batch(\n",
        "            observation=obs,\n",
        "            next_observation=next_obs,\n",
        "            reward=reward,\n",
        "            done=done,\n",
        "            action=action_id,\n",
        "        )\n",
        "\n",
        "        replay.add(batch)\n",
        "\n",
        "        if t % LEARN_EVERY == 0 and replay.can_sample_batch():\n",
        "            batch = replay.sample()\n",
        "            loss = learner.learn(batch)\n",
        "            learner._update_target_network()\n",
        "            losses.append(loss)\n",
        "\n",
        "\n",
        "        obs = next_obs\n",
        "        ep_return += reward\n",
        "        t += 1\n",
        "        ep_len += 1\n",
        "\n",
        "    returns.append(ep_return)\n",
        "    lens.append(ep_len)\n",
        "\n",
        "    if e % 50 == 0:\n",
        "        print(f\"ep: {e}  t: {t} ep_return: {ep_return}  smoothed ep_return: {np.mean(returns[-100:])}   ep_len: {ep_len}   smoothed ep_len: {np.mean(lens[-100:])}  eps: {actor.eps} loss: {np.mean(losses[-10:])} \")"
      ],
      "execution_count": null,
      "outputs": [
        {
          "output_type": "stream",
          "name": "stdout",
          "text": [
            "ep: 0  t: 686 ep_return: -5  smoothed ep_return: -5.0   ep_len: 686   smoothed ep_len: 686.0  eps: 0.9965758671844728 loss: 0.01571144536137581 \n",
            "ep: 50  t: 29339 ep_return: -5  smoothed ep_return: -4.96078431372549   ep_len: 591   smoothed ep_len: 575.2745098039215  eps: 0.8635570055367972 loss: 0.011893055401742458 \n",
            "ep: 100  t: 57955 ep_return: -5  smoothed ep_return: -4.95   ep_len: 533   smoothed ep_len: 572.69  eps: 0.7484314036279179 loss: 0.016856724396348 \n",
            "ep: 150  t: 86463 ep_return: -5  smoothed ep_return: -4.91   ep_len: 747   smoothed ep_len: 571.24  eps: 0.6490042064968339 loss: 0.025107672438025475 \n",
            "ep: 200  t: 115387 ep_return: -5  smoothed ep_return: -4.89   ep_len: 461   smoothed ep_len: 574.32  eps: 0.5616162776078778 loss: 0.019702672958374023 \n",
            "ep: 250  t: 146757 ep_return: -5  smoothed ep_return: -4.87   ep_len: 552   smoothed ep_len: 602.94  eps: 0.48008753147130684 loss: 0.021396033465862274 \n",
            "ep: 300  t: 175963 ep_return: -5  smoothed ep_return: -4.86   ep_len: 542   smoothed ep_len: 605.76  eps: 0.41485874111488136 loss: 0.022506114095449448 \n",
            "ep: 350  t: 205937 ep_return: -4  smoothed ep_return: -4.87   ep_len: 746   smoothed ep_len: 591.8  eps: 0.35711851617000623 loss: 0.011460230685770512 \n",
            "ep: 400  t: 237358 ep_return: -5  smoothed ep_return: -4.86   ep_len: 482   smoothed ep_len: 613.95  eps: 0.30519847784297144 loss: 0.01689208298921585 \n",
            "ep: 450  t: 268723 ep_return: -5  smoothed ep_return: -4.89   ep_len: 634   smoothed ep_len: 627.86  eps: 0.2608999289783375 loss: 0.015148336999118328 \n",
            "ep: 500  t: 299678 ep_return: -5  smoothed ep_return: -4.87   ep_len: 952   smoothed ep_len: 623.2  eps: 0.22348885185918277 loss: 0.011242812499403954 \n",
            "ep: 550  t: 329954 ep_return: -5  smoothed ep_return: -4.83   ep_len: 696   smoothed ep_len: 612.31  eps: 0.19209329289912855 loss: 0.01061064563691616 \n",
            "ep: 600  t: 362612 ep_return: -5  smoothed ep_return: -4.83   ep_len: 513   smoothed ep_len: 629.34  eps: 0.16315338103586297 loss: 0.012281425297260284 \n",
            "ep: 650  t: 392923 ep_return: -4  smoothed ep_return: -4.86   ep_len: 665   smoothed ep_len: 629.69  eps: 0.14020916837242933 loss: 0.015117263421416283 \n",
            "ep: 700  t: 425808 ep_return: -5  smoothed ep_return: -4.87   ep_len: 681   smoothed ep_len: 631.96  eps: 0.11895079929929134 loss: 0.012688102200627327 \n",
            "ep: 750  t: 456171 ep_return: -5  smoothed ep_return: -4.88   ep_len: 453   smoothed ep_len: 632.48  eps: 0.10219620835234443 loss: 0.01555894035845995 \n",
            "ep: 800  t: 487983 ep_return: -5  smoothed ep_return: -4.92   ep_len: 596   smoothed ep_len: 621.75  eps: 0.08716772873983102 loss: 0.013233331963419914 \n",
            "ep: 850  t: 519143 ep_return: -4  smoothed ep_return: -4.91   ep_len: 690   smoothed ep_len: 629.72  eps: 0.0745920392952801 loss: 0.009890115819871426 \n",
            "ep: 900  t: 550521 ep_return: -5  smoothed ep_return: -4.88   ep_len: 400   smoothed ep_len: 625.38  eps: 0.06376110707109804 loss: 0.009644228033721447 \n",
            "ep: 950  t: 583781 ep_return: -5  smoothed ep_return: -4.87   ep_len: 537   smoothed ep_len: 646.38  eps: 0.05399238303330286 loss: 0.015721794217824936 \n",
            "ep: 1000  t: 615815 ep_return: -5  smoothed ep_return: -4.89   ep_len: 792   smoothed ep_len: 652.94  eps: 0.05 loss: 0.015385935083031654 \n",
            "ep: 1050  t: 647922 ep_return: -5  smoothed ep_return: -4.89   ep_len: 622   smoothed ep_len: 641.41  eps: 0.05 loss: 0.02018466219305992 \n",
            "ep: 1100  t: 680902 ep_return: -5  smoothed ep_return: -4.9   ep_len: 664   smoothed ep_len: 650.87  eps: 0.05 loss: 0.01751679554581642 \n",
            "ep: 1150  t: 713517 ep_return: -5  smoothed ep_return: -4.86   ep_len: 518   smoothed ep_len: 655.95  eps: 0.05 loss: 0.012346002273261547 \n",
            "ep: 1200  t: 745689 ep_return: -5  smoothed ep_return: -4.74   ep_len: 361   smoothed ep_len: 647.87  eps: 0.05 loss: 0.01692587323486805 \n",
            "ep: 1250  t: 777194 ep_return: -5  smoothed ep_return: -4.77   ep_len: 443   smoothed ep_len: 636.77  eps: 0.05 loss: 0.011897509917616844 \n",
            "ep: 1300  t: 808622 ep_return: -5  smoothed ep_return: -4.9   ep_len: 482   smoothed ep_len: 629.33  eps: 0.05 loss: 0.01480022817850113 \n",
            "ep: 1350  t: 839421 ep_return: -5  smoothed ep_return: -4.89   ep_len: 464   smoothed ep_len: 622.27  eps: 0.05 loss: 0.017264962196350098 \n",
            "ep: 1400  t: 871078 ep_return: -5  smoothed ep_return: -4.84   ep_len: 542   smoothed ep_len: 624.56  eps: 0.05 loss: 0.015136835165321827 \n",
            "ep: 1450  t: 902762 ep_return: -5  smoothed ep_return: -4.89   ep_len: 634   smoothed ep_len: 633.41  eps: 0.05 loss: 0.010844691656529903 \n",
            "ep: 1500  t: 932970 ep_return: -5  smoothed ep_return: -4.9   ep_len: 685   smoothed ep_len: 618.92  eps: 0.05 loss: 0.015245979651808739 \n",
            "ep: 1550  t: 964663 ep_return: -5  smoothed ep_return: -4.87   ep_len: 425   smoothed ep_len: 619.01  eps: 0.05 loss: 0.015456683933734894 \n",
            "ep: 1600  t: 998855 ep_return: -5  smoothed ep_return: -4.81   ep_len: 509   smoothed ep_len: 658.85  eps: 0.05 loss: 0.014469425193965435 \n",
            "ep: 1650  t: 1034157 ep_return: -5  smoothed ep_return: -4.77   ep_len: 703   smoothed ep_len: 694.94  eps: 0.05 loss: 0.021413277834653854 \n",
            "ep: 1700  t: 1067815 ep_return: -4  smoothed ep_return: -4.84   ep_len: 829   smoothed ep_len: 689.6  eps: 0.05 loss: 0.013704766519367695 \n",
            "ep: 1750  t: 1104154 ep_return: -5  smoothed ep_return: -4.85   ep_len: 931   smoothed ep_len: 699.97  eps: 0.05 loss: 0.0189699474722147 \n",
            "ep: 1800  t: 1146900 ep_return: -5  smoothed ep_return: -4.85   ep_len: 685   smoothed ep_len: 790.85  eps: 0.05 loss: 0.016283376142382622 \n",
            "ep: 1850  t: 1188332 ep_return: -4  smoothed ep_return: -4.88   ep_len: 696   smoothed ep_len: 841.78  eps: 0.05 loss: 0.01350336242467165 \n",
            "ep: 1900  t: 1232576 ep_return: -5  smoothed ep_return: -4.84   ep_len: 868   smoothed ep_len: 856.76  eps: 0.05 loss: 0.01474026869982481 \n",
            "ep: 1950  t: 1289939 ep_return: -5  smoothed ep_return: -4.85   ep_len: 1519   smoothed ep_len: 1016.07  eps: 0.05 loss: 0.017009351402521133 \n",
            "ep: 2000  t: 1363920 ep_return: -5  smoothed ep_return: -4.77   ep_len: 1618   smoothed ep_len: 1313.44  eps: 0.05 loss: 0.01268688403069973 \n",
            "ep: 2050  t: 1455711 ep_return: -3  smoothed ep_return: -4.56   ep_len: 3000   smoothed ep_len: 1657.72  eps: 0.05 loss: 0.016497043892741203 \n",
            "ep: 2100  t: 1581946 ep_return: -4  smoothed ep_return: -4.16   ep_len: 3000   smoothed ep_len: 2180.26  eps: 0.05 loss: 0.00973652396351099 \n",
            "ep: 2150  t: 1714322 ep_return: -5  smoothed ep_return: -3.75   ep_len: 2595   smoothed ep_len: 2586.11  eps: 0.05 loss: 0.010139751248061657 \n",
            "ep: 2200  t: 1808773 ep_return: -5  smoothed ep_return: -4.08   ep_len: 1846   smoothed ep_len: 2268.27  eps: 0.05 loss: 0.010895999148488045 \n",
            "ep: 2250  t: 1885842 ep_return: -5  smoothed ep_return: -4.58   ep_len: 655   smoothed ep_len: 1715.2  eps: 0.05 loss: 0.0066007329151034355 \n",
            "ep: 2300  t: 1987357 ep_return: -5  smoothed ep_return: -4.35   ep_len: 2625   smoothed ep_len: 1785.84  eps: 0.05 loss: 0.011453843675553799 \n",
            "ep: 2350  t: 2093918 ep_return: -5  smoothed ep_return: -4.02   ep_len: 1524   smoothed ep_len: 2080.76  eps: 0.05 loss: 0.006942482199519873 \n",
            "ep: 2400  t: 2210121 ep_return: -3  smoothed ep_return: -3.94   ep_len: 3000   smoothed ep_len: 2227.64  eps: 0.05 loss: 0.004914623685181141 \n",
            "ep: 2450  t: 2326252 ep_return: -3  smoothed ep_return: -3.84   ep_len: 3000   smoothed ep_len: 2323.34  eps: 0.05 loss: 0.0034678622614592314 \n",
            "ep: 2500  t: 2445879 ep_return: -2  smoothed ep_return: -3.63   ep_len: 3000   smoothed ep_len: 2357.58  eps: 0.05 loss: 0.006389523856341839 \n",
            "ep: 2550  t: 2561205 ep_return: -5  smoothed ep_return: -3.53   ep_len: 1164   smoothed ep_len: 2349.53  eps: 0.05 loss: 0.004466974176466465 \n",
            "ep: 2600  t: 2684403 ep_return: -3  smoothed ep_return: -3.52   ep_len: 2780   smoothed ep_len: 2385.24  eps: 0.05 loss: 0.00608895905315876 \n",
            "ep: 2650  t: 2809497 ep_return: -5  smoothed ep_return: -3.23   ep_len: 1555   smoothed ep_len: 2482.92  eps: 0.05 loss: 0.0027515962719917297 \n",
            "ep: 2700  t: 2933799 ep_return: -4  smoothed ep_return: -3.3   ep_len: 3000   smoothed ep_len: 2493.96  eps: 0.05 loss: 0.0019081846112385392 \n",
            "ep: 2750  t: 3053506 ep_return: -3  smoothed ep_return: -3.5   ep_len: 3000   smoothed ep_len: 2440.09  eps: 0.05 loss: 0.005936427507549524 \n",
            "ep: 2800  t: 3194504 ep_return: -2  smoothed ep_return: -2.95   ep_len: 3000   smoothed ep_len: 2607.05  eps: 0.05 loss: 0.0024993219412863255 \n",
            "ep: 2850  t: 3332778 ep_return: -3  smoothed ep_return: -2.46   ep_len: 3000   smoothed ep_len: 2792.72  eps: 0.05 loss: 0.004529308527708054 \n",
            "ep: 2900  t: 3466206 ep_return: -1  smoothed ep_return: -2.34   ep_len: 3000   smoothed ep_len: 2717.02  eps: 0.05 loss: 0.0019109623972326517 \n",
            "ep: 2950  t: 3611246 ep_return: 2  smoothed ep_return: -1.85   ep_len: 3000   smoothed ep_len: 2784.68  eps: 0.05 loss: 0.0038329188246279955 \n",
            "ep: 3000  t: 3760182 ep_return: -2  smoothed ep_return: -1.52   ep_len: 3000   smoothed ep_len: 2939.76  eps: 0.05 loss: 0.004047495312988758 \n",
            "ep: 3050  t: 3894868 ep_return: -5  smoothed ep_return: -2.2   ep_len: 976   smoothed ep_len: 2836.22  eps: 0.05 loss: 0.003041353542357683 \n",
            "ep: 3100  t: 4028707 ep_return: -5  smoothed ep_return: -3.04   ep_len: 1854   smoothed ep_len: 2685.25  eps: 0.05 loss: 0.0027304298710078 \n",
            "ep: 3150  t: 4160021 ep_return: -3  smoothed ep_return: -3.15   ep_len: 3000   smoothed ep_len: 2651.53  eps: 0.05 loss: 0.0028696085792034864 \n",
            "ep: 3200  t: 4286414 ep_return: -3  smoothed ep_return: -3.17   ep_len: 3000   smoothed ep_len: 2577.07  eps: 0.05 loss: 0.0023845299147069454 \n",
            "ep: 3250  t: 4419071 ep_return: -5  smoothed ep_return: -3.21   ep_len: 1300   smoothed ep_len: 2590.5  eps: 0.05 loss: 0.0031833606772124767 \n",
            "ep: 3300  t: 4556181 ep_return: -1  smoothed ep_return: -2.95   ep_len: 3000   smoothed ep_len: 2697.67  eps: 0.05 loss: 0.0026411209255456924 \n",
            "ep: 3350  t: 4694881 ep_return: -4  smoothed ep_return: -2.61   ep_len: 3000   smoothed ep_len: 2758.1  eps: 0.05 loss: 0.005206478759646416 \n",
            "ep: 3400  t: 4836876 ep_return: 1  smoothed ep_return: -2.26   ep_len: 3000   smoothed ep_len: 2806.95  eps: 0.05 loss: 0.0030780090019106865 \n",
            "ep: 3450  t: 4977048 ep_return: 1  smoothed ep_return: -2.12   ep_len: 3000   smoothed ep_len: 2821.67  eps: 0.05 loss: 0.002024292480200529 \n",
            "ep: 3500  t: 5121888 ep_return: 0  smoothed ep_return: -2.06   ep_len: 3000   smoothed ep_len: 2850.12  eps: 0.05 loss: 0.005826702807098627 \n",
            "ep: 3550  t: 5259263 ep_return: -4  smoothed ep_return: -2.0   ep_len: 2830   smoothed ep_len: 2822.15  eps: 0.05 loss: 0.0021497716661542654 \n",
            "ep: 3600  t: 5396290 ep_return: -1  smoothed ep_return: -2.2   ep_len: 3000   smoothed ep_len: 2744.02  eps: 0.05 loss: 0.004894045181572437 \n",
            "ep: 3650  t: 5536354 ep_return: -3  smoothed ep_return: -2.43   ep_len: 3000   smoothed ep_len: 2770.91  eps: 0.05 loss: 0.0035121336113661528 \n",
            "ep: 3700  t: 5675262 ep_return: -2  smoothed ep_return: -2.3   ep_len: 3000   smoothed ep_len: 2789.72  eps: 0.05 loss: 0.004809629172086716 \n",
            "ep: 3750  t: 5812124 ep_return: -3  smoothed ep_return: -2.26   ep_len: 3000   smoothed ep_len: 2757.7  eps: 0.05 loss: 0.003404275979846716 \n",
            "ep: 3800  t: 5950326 ep_return: -4  smoothed ep_return: -2.49   ep_len: 3000   smoothed ep_len: 2750.64  eps: 0.05 loss: 0.0034051667898893356 \n",
            "ep: 3850  t: 6089969 ep_return: -5  smoothed ep_return: -2.46   ep_len: 1856   smoothed ep_len: 2778.45  eps: 0.05 loss: 0.0042236680164933205 \n",
            "ep: 3900  t: 6232107 ep_return: 3  smoothed ep_return: -2.27   ep_len: 3000   smoothed ep_len: 2817.81  eps: 0.05 loss: 0.003218797966837883 \n",
            "ep: 3950  t: 6374265 ep_return: -4  smoothed ep_return: -2.31   ep_len: 2602   smoothed ep_len: 2842.96  eps: 0.05 loss: 0.0029536173678934574 \n"
          ]
        }
      ]
    },
    {
      "cell_type": "code",
      "metadata": {
        "id": "QYBQkF3JhWqb",
        "colab": {
          "base_uri": "https://localhost:8080/",
          "height": 283
        },
        "outputId": "af4aad73-ec59-4306-8e03-b229062fb90b"
      },
      "source": [
        "%matplotlib inline\n",
        "plt.plot(returns)\n"
      ],
      "execution_count": null,
      "outputs": [
        {
          "output_type": "execute_result",
          "data": {
            "text/plain": [
              "[<matplotlib.lines.Line2D at 0x7f404e20a090>]"
            ]
          },
          "metadata": {},
          "execution_count": 32
        },
        {
          "output_type": "display_data",
          "data": {
            "image/png": "[encoded data removed]",
            "text/plain": [
              "<Figure size 432x288 with 1 Axes>"
            ]
          },
          "metadata": {
            "needs_background": "light"
          }
        }
      ]
    },
    {
      "cell_type": "code",
      "metadata": {
        "colab": {
          "base_uri": "https://localhost:8080/",
          "height": 283
        },
        "id": "WMPIY6QcZlpg",
        "outputId": "de971e76-d514-498a-f47f-864f89971b4d"
      },
      "source": [
        "plt.plot(lens)"
      ],
      "execution_count": null,
      "outputs": [
        {
          "output_type": "execute_result",
          "data": {
            "text/plain": [
              "[<matplotlib.lines.Line2D at 0x7f40536f6710>]"
            ]
          },
          "metadata": {},
          "execution_count": 16
        },
        {
          "output_type": "display_data",
          "data": {
            "image/png": "[encoded data removed]",
            "text/plain": [
              "<Figure size 432x288 with 1 Axes>"
            ]
          },
          "metadata": {
            "needs_background": "light"
          }
        }
      ]
    },
    {
      "cell_type": "code",
      "metadata": {
        "id": "SiA_tZH9Z1UP"
      },
      "source": [
        "  N = len(returns)\n",
        "  running_avg_returns = np.empty(N)\n",
        "  for t in range(N):\n",
        "    running_avg_returns[t] = np.mean(returns[max(0, t-20):(t+1)])\n",
        "\n"
      ],
      "execution_count": null,
      "outputs": []
    },
    {
      "cell_type": "code",
      "metadata": {
        "colab": {
          "base_uri": "https://localhost:8080/",
          "height": 283
        },
        "id": "Siyrg2UBZ7_K",
        "outputId": "99d557e2-688c-4622-c2cb-5b282a5dfd7b"
      },
      "source": [
        "plt.plot(running_avg)"
      ],
      "execution_count": null,
      "outputs": [
        {
          "output_type": "execute_result",
          "data": {
            "text/plain": [
              "[<matplotlib.lines.Line2D at 0x7f404e149290>]"
            ]
          },
          "metadata": {},
          "execution_count": 35
        },
        {
          "output_type": "display_data",
          "data": {
            "image/png": "[encoded data removed]",
            "text/plain": [
              "<Figure size 432x288 with 1 Axes>"
            ]
          },
          "metadata": {
            "needs_background": "light"
          }
        }
      ]
    },
    {
      "cell_type": "code",
      "metadata": {
        "id": "prMEpkTIco7V"
      },
      "source": [
        "  N = len(lens)\n",
        "  running_avg_lens = np.empty(N)\n",
        "  for t in range(N):\n",
        "    running_avg_lens[t] = np.mean(lens[max(0, t-20):(t+1)])"
      ],
      "execution_count": null,
      "outputs": []
    },
    {
      "cell_type": "code",
      "metadata": {
        "colab": {
          "base_uri": "https://localhost:8080/",
          "height": 283
        },
        "id": "DZONqef1dBx4",
        "outputId": "b386f7fb-049e-4364-d8f6-449badd06d0b"
      },
      "source": [
        "plt.plot(running_avg_lens)"
      ],
      "execution_count": null,
      "outputs": [
        {
          "output_type": "execute_result",
          "data": {
            "text/plain": [
              "[<matplotlib.lines.Line2D at 0x7f404e0ea390>]"
            ]
          },
          "metadata": {},
          "execution_count": 39
        },
        {
          "output_type": "display_data",
          "data": {
            "image/png": "[encoded data removed]",
            "text/plain": [
              "<Figure size 432x288 with 1 Axes>"
            ]
          },
          "metadata": {
            "needs_background": "light"
          }
        }
      ]
    },
    {
      "cell_type": "code",
      "metadata": {
        "colab": {
          "base_uri": "https://localhost:8080/"
        },
        "id": "syV38NwLdFjj",
        "outputId": "f952a7be-77fd-4afa-fe46-ff122bce63fc"
      },
      "source": [
        "print(lens)"
      ],
      "execution_count": null,
      "outputs": [
        {
          "output_type": "stream",
          "name": "stdout",
          "text": [
            "[686, 404, 501, 734, 472, 720, 689, 451, 417, 560, 894, 957, 710, 521, 577, 524, 630, 527, 569, 574, 567, 664, 524, 527, 452, 555, 574, 582, 655, 535, 432, 711, 495, 421, 503, 765, 455, 694, 572, 668, 627, 658, 624, 431, 437, 459, 449, 605, 571, 419, 591, 604, 386, 495, 523, 716, 436, 597, 684, 700, 601, 648, 484, 695, 560, 765, 578, 526, 563, 614, 721, 527, 688, 428, 643, 590, 613, 669, 498, 536, 428, 565, 431, 579, 470, 707, 800, 541, 459, 630, 587, 502, 473, 415, 531, 484, 556, 492, 653, 692, 533, 683, 509, 470, 594, 609, 567, 735, 579, 507, 450, 490, 594, 613, 524, 594, 507, 593, 644, 493, 479, 479, 392, 512, 609, 409, 539, 625, 527, 563, 566, 445, 472, 657, 414, 537, 595, 576, 509, 620, 598, 613, 588, 857, 660, 597, 641, 666, 560, 701, 747, 454, 614, 685, 545, 679, 667, 580, 531, 577, 432, 706, 730, 586, 572, 544, 570, 483, 519, 498, 437, 563, 506, 626, 443, 729, 529, 482, 588, 679, 476, 570, 689, 513, 533, 622, 397, 413, 694, 413, 673, 571, 685, 510, 681, 891, 601, 680, 582, 715, 461, 602, 506, 902, 770, 642, 748, 664, 579, 619, 519, 424, 427, 659, 747, 663, 849, 514, 539, 842, 489, 452, 520, 530, 483, 667, 570, 691, 831, 605, 440, 724, 457, 494, 612, 477, 593, 799, 626, 875, 566, 703, 771, 539, 637, 770, 776, 533, 756, 617, 552, 553, 857, 534, 571, 622, 587, 506, 479, 512, 723, 423, 563, 507, 501, 511, 460, 542, 420, 386, 514, 702, 497, 672, 583, 548, 651, 574, 705, 703, 663, 519, 667, 480, 761, 527, 566, 647, 486, 681, 504, 454, 792, 778, 670, 546, 464, 874, 546, 633, 542, 665, 493, 653, 582, 481, 435, 587, 749, 867, 492, 1006, 499, 753, 884, 649, 461, 742, 478, 560, 674, 483, 454, 565, 478, 584, 729, 539, 547, 537, 489, 553, 579, 488, 797, 492, 779, 550, 526, 567, 537, 552, 575, 498, 558, 551, 571, 867, 459, 614, 746, 406, 541, 1209, 685, 637, 477, 609, 719, 602, 604, 544, 615, 611, 792, 533, 449, 499, 703, 522, 704, 635, 591, 464, 509, 649, 780, 847, 665, 428, 797, 460, 754, 611, 640, 601, 578, 628, 663, 693, 1012, 583, 555, 562, 544, 809, 658, 633, 540, 589, 482, 544, 770, 700, 664, 760, 661, 537, 631, 438, 541, 655, 701, 468, 783, 570, 400, 446, 492, 697, 729, 609, 665, 795, 798, 438, 701, 673, 632, 524, 775, 657, 387, 735, 737, 603, 538, 497, 466, 852, 997, 639, 588, 672, 412, 623, 687, 513, 728, 603, 634, 936, 629, 920, 800, 480, 636, 657, 718, 673, 515, 419, 457, 645, 704, 558, 578, 444, 448, 656, 660, 467, 544, 555, 849, 633, 765, 594, 456, 647, 531, 558, 620, 530, 543, 478, 660, 671, 437, 697, 716, 631, 751, 458, 761, 553, 649, 507, 461, 748, 952, 787, 631, 419, 598, 593, 557, 625, 491, 764, 655, 418, 684, 904, 785, 505, 390, 559, 678, 541, 876, 683, 412, 401, 1081, 694, 523, 553, 486, 631, 667, 571, 463, 635, 461, 404, 646, 806, 577, 599, 666, 460, 480, 633, 480, 692, 599, 512, 711, 594, 696, 747, 701, 504, 441, 682, 876, 430, 426, 678, 517, 728, 544, 475, 557, 579, 745, 693, 577, 944, 506, 638, 611, 584, 921, 633, 677, 849, 839, 578, 767, 667, 640, 510, 603, 828, 513, 901, 875, 880, 719, 674, 728, 399, 636, 451, 877, 691, 520, 586, 513, 486, 811, 527, 714, 680, 844, 556, 612, 600, 384, 741, 531, 623, 757, 589, 722, 601, 621, 673, 1058, 652, 508, 717, 880, 554, 713, 504, 577, 750, 433, 439, 466, 632, 580, 430, 460, 560, 792, 549, 501, 535, 606, 559, 574, 597, 599, 394, 387, 568, 665, 870, 647, 809, 822, 769, 612, 621, 641, 473, 604, 582, 467, 577, 601, 602, 675, 931, 716, 879, 662, 627, 574, 652, 701, 662, 901, 805, 583, 588, 554, 652, 500, 643, 518, 457, 686, 687, 830, 853, 799, 483, 571, 795, 700, 520, 689, 660, 460, 494, 681, 756, 736, 920, 472, 829, 840, 467, 543, 497, 508, 512, 391, 587, 755, 949, 618, 642, 666, 608, 518, 555, 578, 549, 766, 620, 614, 567, 501, 619, 591, 825, 442, 689, 495, 578, 506, 797, 698, 500, 682, 494, 717, 582, 477, 566, 504, 482, 447, 655, 453, 672, 510, 633, 549, 911, 483, 617, 665, 644, 604, 661, 683, 459, 572, 414, 807, 514, 827, 727, 711, 652, 523, 662, 537, 515, 749, 582, 484, 607, 599, 709, 759, 793, 802, 504, 621, 426, 609, 710, 1059, 689, 682, 484, 683, 674, 603, 756, 632, 448, 596, 596, 537, 509, 569, 538, 552, 871, 641, 689, 618, 522, 518, 627, 802, 646, 613, 1022, 533, 722, 582, 815, 551, 530, 793, 620, 657, 589, 498, 661, 606, 570, 411, 717, 488, 597, 594, 721, 833, 564, 470, 534, 497, 569, 629, 620, 520, 515, 754, 840, 690, 556, 523, 646, 557, 816, 879, 752, 917, 809, 656, 647, 786, 503, 469, 638, 457, 955, 969, 757, 813, 389, 647, 671, 659, 658, 619, 791, 698, 414, 528, 669, 501, 503, 713, 686, 404, 447, 554, 534, 550, 464, 840, 510, 587, 591, 468, 523, 458, 797, 400, 570, 506, 597, 803, 498, 603, 674, 646, 561, 601, 813, 606, 662, 775, 713, 709, 788, 920, 594, 719, 517, 505, 838, 843, 592, 501, 547, 600, 570, 497, 528, 877, 506, 450, 940, 657, 704, 892, 764, 489, 962, 622, 587, 640, 689, 747, 1074, 541, 686, 537, 542, 560, 723, 453, 678, 584, 609, 882, 685, 487, 647, 745, 743, 530, 523, 772, 536, 745, 670, 511, 470, 474, 985, 581, 617, 489, 518, 770, 605, 1057, 518, 420, 620, 583, 779, 662, 545, 655, 554, 472, 701, 849, 608, 630, 532, 724, 715, 629, 855, 792, 559, 772, 705, 551, 628, 593, 758, 558, 486, 678, 527, 616, 573, 743, 433, 465, 467, 403, 656, 873, 1038, 504, 677, 636, 564, 1189, 761, 849, 590, 382, 485, 542, 794, 479, 705, 572, 993, 625, 959, 499, 477, 810, 417, 765, 595, 586, 470, 879, 599, 622, 676, 570, 699, 1049, 750, 469, 552, 797, 598, 629, 528, 530, 644, 888, 648, 722, 670, 734, 607, 497, 516, 552, 603, 732, 529, 548, 1087, 522, 661, 484, 508, 886, 732, 506, 643, 788, 766, 559, 691, 607, 604, 448, 687, 821, 681, 634, 896, 726, 642, 664, 544, 948, 549, 797, 749, 696, 519, 428, 864, 563, 908, 474, 772, 548, 626, 545, 772, 693, 498, 667, 779, 471, 570, 930, 751, 733, 465, 499, 634, 1214, 579, 798, 527, 793, 698, 501, 529, 734, 587, 559, 503, 559, 730, 932, 590, 434, 547, 707, 584, 518, 510, 1050, 658, 808, 838, 635, 797, 680, 682, 391, 783, 578, 637, 532, 848, 753, 436, 404, 479, 714, 591, 706, 445, 598, 508, 623, 1277, 617, 640, 723, 846, 528, 642, 544, 598, 461, 526, 781, 802, 1012, 594, 545, 800, 543, 487, 473, 587, 572, 529, 361, 598, 1002, 888, 576, 615, 862, 525, 545, 785, 835, 658, 525, 461, 612, 631, 763, 605, 589, 636, 490, 601, 764, 477, 622, 620, 643, 458, 488, 655, 587, 598, 606, 576, 735, 445, 851, 477, 762, 730, 539, 545, 639, 659, 517, 748, 759, 536, 590, 634, 443, 570, 819, 518, 524, 496, 827, 544, 663, 733, 613, 886, 741, 849, 804, 848, 479, 580, 490, 547, 409, 585, 690, 523, 540, 590, 641, 608, 669, 611, 630, 761, 716, 482, 555, 740, 619, 648, 666, 822, 558, 568, 679, 622, 630, 604, 591, 606, 498, 554, 482, 654, 815, 532, 621, 591, 538, 564, 482, 602, 773, 535, 719, 444, 614, 613, 538, 539, 468, 896, 588, 711, 573, 740, 855, 730, 725, 471, 827, 526, 581, 603, 515, 584, 616, 501, 583, 702, 733, 824, 550, 538, 523, 456, 601, 697, 449, 751, 653, 591, 464, 581, 503, 760, 587, 533, 503, 576, 615, 555, 527, 666, 540, 621, 782, 606, 617, 643, 586, 721, 623, 485, 451, 586, 573, 592, 725, 591, 638, 551, 653, 520, 491, 491, 617, 736, 1039, 686, 987, 821, 789, 845, 624, 1057, 607, 487, 426, 401, 668, 833, 542, 603, 630, 470, 463, 460, 782, 1028, 808, 573, 792, 617, 661, 614, 738, 502, 510, 585, 650, 607, 848, 887, 569, 765, 797, 759, 495, 875, 894, 907, 624, 651, 524, 512, 603, 625, 614, 466, 510, 673, 456, 699, 559, 537, 503, 437, 628, 490, 525, 525, 634, 648, 588, 548, 588, 603, 729, 666, 604, 652, 733, 559, 542, 732, 742, 537, 492, 668, 577, 620, 493, 956, 521, 472, 570, 852, 500, 700, 480, 613, 476, 546, 838, 526, 756, 637, 492, 584, 666, 700, 685, 668, 452, 511, 452, 509, 551, 614, 423, 452, 685, 508, 663, 602, 742, 878, 454, 632, 669, 509, 536, 543, 585, 518, 629, 597, 670, 563, 888, 509, 590, 791, 602, 633, 568, 457, 800, 643, 465, 510, 784, 705, 606, 723, 624, 1400, 509, 492, 643, 868, 586, 453, 658, 466, 427, 434, 587, 644, 1131, 774, 425, 1248, 553, 700, 912, 726, 729, 519, 824, 616, 530, 612, 555, 548, 660, 581, 754, 526, 622, 660, 492, 733, 775, 540, 588, 717, 833, 806, 478, 560, 1072, 558, 698, 538, 886, 1047, 961, 583, 544, 615, 660, 756, 433, 635, 431, 604, 800, 943, 722, 800, 509, 642, 612, 798, 969, 721, 1031, 606, 699, 592, 591, 675, 771, 733, 727, 539, 926, 506, 714, 740, 534, 682, 626, 925, 842, 707, 693, 662, 881, 834, 572, 870, 727, 541, 762, 844, 977, 610, 903, 552, 503, 799, 700, 572, 737, 640, 578, 585, 534, 615, 703, 537, 613, 818, 647, 760, 520, 767, 537, 454, 492, 552, 451, 594, 506, 600, 438, 1130, 698, 619, 677, 947, 690, 484, 546, 937, 984, 480, 705, 842, 622, 853, 703, 903, 945, 634, 786, 518, 627, 588, 641, 806, 570, 663, 742, 502, 646, 721, 676, 658, 829, 510, 757, 663, 928, 1317, 828, 610, 550, 494, 817, 532, 673, 596, 710, 782, 664, 528, 615, 777, 614, 730, 959, 570, 602, 621, 1017, 479, 584, 624, 746, 667, 852, 764, 741, 524, 901, 634, 898, 675, 970, 580, 810, 853, 718, 945, 650, 661, 740, 928, 931, 1479, 651, 950, 585, 780, 910, 952, 1073, 663, 863, 1469, 1287, 548, 760, 726, 1206, 1239, 718, 801, 717, 670, 712, 912, 1018, 747, 1240, 752, 534, 795, 507, 882, 871, 831, 744, 692, 781, 551, 741, 1056, 1273, 904, 791, 848, 791, 704, 742, 953, 856, 786, 685, 598, 903, 863, 738, 547, 893, 1166, 1482, 777, 641, 1015, 772, 642, 854, 497, 1241, 656, 614, 863, 827, 848, 1382, 766, 466, 1061, 727, 634, 557, 768, 799, 1004, 659, 660, 715, 834, 812, 774, 800, 658, 838, 736, 1114, 1132, 885, 1113, 919, 978, 741, 767, 696, 874, 1245, 965, 673, 663, 873, 625, 913, 766, 609, 1020, 1048, 898, 701, 821, 1387, 1198, 962, 916, 901, 1241, 534, 725, 1011, 852, 804, 809, 1194, 834, 820, 1241, 791, 813, 903, 792, 1044, 690, 1048, 607, 965, 920, 901, 998, 760, 896, 748, 714, 939, 724, 868, 772, 935, 680, 774, 893, 682, 1011, 829, 1112, 1047, 1013, 695, 1302, 1065, 1548, 1088, 871, 773, 1263, 793, 1083, 1542, 1643, 807, 927, 999, 864, 1026, 1470, 769, 889, 898, 1072, 1707, 1652, 1173, 1195, 983, 1069, 1358, 551, 1513, 1918, 1194, 1397, 1922, 2335, 1428, 1314, 1519, 1797, 1137, 2339, 1204, 1154, 1056, 1468, 2577, 1076, 2082, 1233, 1558, 1306, 1654, 634, 1430, 1957, 1216, 1930, 1035, 1455, 1538, 406, 2769, 806, 1931, 2033, 686, 1114, 1392, 1846, 1474, 951, 1623, 3000, 1274, 870, 690, 869, 1523, 1903, 1068, 1068, 1659, 752, 2194, 2028, 1975, 1623, 1618, 2407, 1673, 1674, 857, 2427, 839, 1046, 1340, 3000, 1571, 2305, 2188, 3000, 1688, 1603, 1784, 1324, 2287, 1811, 1347, 3000, 1905, 2012, 2461, 2173, 1104, 1946, 912, 1135, 1133, 1455, 1674, 2610, 1973, 1800, 771, 1532, 1535, 2498, 1326, 2321, 2780, 947, 1778, 2280, 1951, 1737, 1936, 1935, 3000, 2860, 2812, 3000, 2457, 3000, 2415, 1680, 1670, 2884, 2085, 2795, 2397, 2312, 1824, 2850, 3000, 3000, 3000, 3000, 1962, 3000, 1830, 3000, 2779, 2966, 1143, 2613, 1733, 3000, 1445, 1931, 3000, 3000, 1623, 3000, 3000, 3000, 3000, 3000, 1323, 3000, 2737, 1744, 1881, 1484, 3000, 3000, 3000, 3000, 3000, 3000, 2388, 2307, 2525, 3000, 2708, 1696, 2922, 3000, 930, 2631, 3000, 3000, 3000, 2812, 3000, 2812, 2946, 3000, 2459, 3000, 3000, 3000, 3000, 2035, 1876, 3000, 3000, 3000, 2255, 2708, 3000, 3000, 3000, 2431, 3000, 3000, 999, 2925, 3000, 2040, 3000, 3000, 3000, 2148, 1753, 3000, 2746, 1729, 2595, 2377, 1032, 3000, 988, 2359, 2937, 2342, 1621, 1528, 1813, 1924, 1998, 3000, 2001, 2614, 1897, 2937, 1442, 2094, 2069, 3000, 2366, 980, 1274, 2021, 989, 2105, 846, 1851, 1028, 3000, 1707, 1840, 1019, 1261, 1175, 2266, 1569, 1338, 3000, 2168, 1815, 760, 897, 2089, 2609, 1812, 2519, 1328, 1846, 1421, 1613, 1317, 1009, 3000, 1244, 2009, 1652, 1486, 1210, 1564, 1513, 1030, 1276, 2944, 3000, 2214, 2599, 2396, 1008, 1245, 1098, 1613, 1268, 872, 456, 3000, 2476, 581, 1725, 2014, 1435, 1174, 2865, 1351, 1535, 1722, 1165, 775, 1176, 1618, 1822, 1539, 806, 627, 678, 847, 1415, 2011, 655, 2500, 980, 1056, 3000, 3000, 3000, 3000, 1718, 884, 3000, 3000, 2176, 2120, 2226, 1536, 2506, 1577, 1375, 1345, 759, 785, 1443, 583, 830, 1694, 3000, 2621, 2326, 1427, 2133, 3000, 3000, 3000, 3000, 2394, 3000, 2131, 3000, 1383, 3000, 1490, 1681, 1108, 3000, 1943, 1194, 1594, 1710, 662, 2625, 1141, 3000, 2960, 952, 1446, 3000, 2924, 3000, 2223, 2860, 1718, 1854, 2290, 3000, 2968, 981, 1708, 1963, 815, 1320, 828, 1697, 1288, 495, 777, 3000, 3000, 2157, 2983, 3000, 2388, 2285, 1785, 3000, 2474, 3000, 3000, 3000, 3000, 2304, 1529, 1203, 697, 596, 2850, 3000, 3000, 2860, 1718, 1524, 2015, 2167, 2229, 3000, 2598, 2658, 766, 3000, 2340, 3000, 1766, 3000, 3000, 1127, 2874, 2191, 1659, 1404, 2439, 3000, 2463, 1254, 2137, 1105, 2264, 2889, 2411, 2521, 3000, 3000, 1951, 1539, 705, 2093, 1547, 3000, 2877, 3000, 3000, 3000, 3000, 2685, 3000, 3000, 3000, 2362, 1122, 2318, 727, 3000, 2794, 3000, 1491, 900, 1191, 3000, 2058, 2114, 3000, 2885, 3000, 2341, 3000, 2236, 2706, 2062, 946, 1461, 2055, 2466, 2534, 3000, 3000, 3000, 2212, 1709, 1380, 2214, 889, 3000, 3000, 2859, 3000, 3000, 3000, 3000, 3000, 3000, 1796, 2263, 1088, 3000, 1201, 1177, 1392, 3000, 3000, 3000, 711, 3000, 3000, 2000, 3000, 2577, 3000, 3000, 3000, 2050, 2713, 1875, 3000, 2670, 2038, 3000, 3000, 3000, 3000, 3000, 3000, 3000, 2387, 1796, 2794, 3000, 3000, 1858, 2312, 3000, 3000, 2286, 2769, 469, 1604, 3000, 3000, 1544, 1947, 2254, 1249, 482, 1517, 3000, 2114, 632, 1334, 1226, 3000, 3000, 2130, 3000, 3000, 3000, 3000, 3000, 3000, 3000, 3000, 2096, 3000, 3000, 2985, 3000, 2320, 1486, 1219, 2285, 3000, 2320, 3000, 3000, 2584, 1329, 1047, 3000, 2279, 3000, 2516, 3000, 3000, 3000, 3000, 1164, 1569, 3000, 3000, 2955, 2409, 1145, 1914, 1763, 1500, 1120, 1609, 1508, 589, 688, 3000, 1239, 2524, 1164, 1817, 3000, 1389, 1876, 1862, 3000, 1042, 1340, 3000, 1006, 1741, 1217, 2945, 3000, 3000, 1283, 3000, 3000, 3000, 3000, 2449, 3000, 2174, 1627, 3000, 2148, 3000, 3000, 3000, 1585, 2544, 1065, 3000, 3000, 3000, 1480, 3000, 3000, 3000, 2322, 2019, 3000, 3000, 3000, 3000, 3000, 2487, 3000, 3000, 2780, 3000, 3000, 3000, 1562, 3000, 3000, 2809, 3000, 3000, 3000, 3000, 3000, 2667, 1102, 3000, 3000, 3000, 3000, 3000, 1989, 3000, 3000, 2691, 3000, 2473, 3000, 3000, 1691, 787, 3000, 2118, 1471, 3000, 3000, 2987, 3000, 3000, 3000, 1735, 2024, 3000, 3000, 1130, 2251, 3000, 1179, 1618, 543, 1712, 1555, 2729, 1732, 3000, 3000, 3000, 1393, 2030, 3000, 3000, 2954, 1681, 3000, 2883, 3000, 3000, 1900, 1430, 3000, 3000, 2415, 3000, 2031, 3000, 3000, 3000, 3000, 2370, 1434, 3000, 3000, 3000, 3000, 2923, 2656, 2139, 1242, 1501, 1266, 2088, 2783, 2295, 2409, 2487, 2000, 3000, 844, 1687, 3000, 3000, 3000, 3000, 3000, 1614, 1674, 2161, 1944, 3000, 3000, 3000, 2042, 3000, 3000, 3000, 3000, 913, 2718, 1769, 3000, 2882, 3000, 2083, 3000, 1331, 1595, 3000, 3000, 3000, 744, 2840, 747, 3000, 1770, 745, 2777, 1698, 890, 1239, 3000, 3000, 3000, 3000, 2285, 3000, 3000, 1914, 3000, 1645, 2687, 3000, 3000, 1862, 2496, 2947, 3000, 3000, 3000, 3000, 3000, 3000, 3000, 3000, 3000, 3000, 3000, 3000, 3000, 3000, 2601, 3000, 3000, 2401, 3000, 3000, 3000, 3000, 3000, 3000, 1240, 2391, 1802, 1607, 3000, 2895, 3000, 2669, 3000, 3000, 3000, 3000, 3000, 3000, 3000, 3000, 3000, 2302, 3000, 3000, 3000, 2785, 3000, 3000, 3000, 3000, 3000, 1248, 3000, 3000, 3000, 3000, 3000, 3000, 2061, 3000, 3000, 3000, 3000, 3000, 3000, 3000, 3000, 1883, 888, 3000, 3000, 3000, 1745, 2559, 2996, 3000, 3000, 1574, 1353, 3000, 3000, 1967, 3000, 3000, 3000, 3000, 3000, 3000, 3000, 3000, 3000, 3000, 3000, 3000, 3000, 3000, 3000, 2918, 791, 2179, 3000, 3000, 3000, 3000, 2154, 823, 3000, 3000, 3000, 3000, 3000, 3000, 3000, 2311, 3000, 3000, 3000, 3000, 1720, 814, 3000, 2578, 1968, 3000, 3000, 3000, 3000, 3000, 1395, 2301, 3000, 3000, 2679, 3000, 3000, 2544, 2622, 3000, 3000, 3000, 3000, 3000, 3000, 3000, 3000, 1631, 3000, 3000, 2119, 3000, 2432, 1541, 3000, 3000, 3000, 3000, 3000, 2637, 3000, 3000, 3000, 3000, 3000, 3000, 3000, 3000, 2986, 3000, 3000, 3000, 2661, 3000, 3000, 1743, 3000, 2921, 3000, 3000, 3000, 3000, 3000, 3000, 3000, 3000, 3000, 3000, 3000, 3000, 3000, 3000, 3000, 3000, 3000, 3000, 3000, 3000, 3000, 2590, 2943, 3000, 3000, 3000, 3000, 3000, 3000, 3000, 3000, 3000, 3000, 3000, 3000, 3000, 3000, 3000, 3000, 3000, 3000, 3000, 3000, 3000, 3000, 3000, 3000, 3000, 3000, 3000, 3000, 3000, 3000, 3000, 3000, 2997, 3000, 3000, 3000, 3000, 3000, 3000, 3000, 3000, 3000, 2406, 3000, 3000, 3000, 3000, 3000, 3000, 3000, 2154, 2943, 3000, 3000, 2282, 3000, 3000, 3000, 3000, 3000, 3000, 3000, 3000, 2883, 2123, 3000, 3000, 3000, 3000, 3000, 3000, 3000, 3000, 3000, 3000, 2752, 3000, 3000, 3000, 3000, 3000, 2632, 2694, 3000, 3000, 3000, 3000, 607, 1047, 3000, 1681, 3000, 2610, 3000, 2321, 1347, 1634, 976, 3000, 3000, 3000, 2078, 3000, 3000, 2287, 1824, 3000, 3000, 3000, 2741, 2446, 3000, 3000, 2360, 3000, 2476, 3000, 1161, 3000, 3000, 3000, 3000, 3000, 3000, 3000, 3000, 1553, 3000, 3000, 3000, 3000, 2058, 1814, 3000, 1635, 1814, 2956, 3000, 3000, 2839, 3000, 2556, 1866, 2569, 2952, 3000, 3000, 1854, 3000, 3000, 3000, 3000, 3000, 3000, 3000, 3000, 3000, 1046, 1056, 2239, 1171, 1579, 2306, 1165, 2538, 3000, 3000, 3000, 3000, 3000, 2562, 3000, 3000, 3000, 3000, 3000, 3000, 1469, 3000, 3000, 3000, 3000, 2989, 3000, 2215, 1468, 1210, 3000, 3000, 2653, 2496, 3000, 3000, 3000, 3000, 3000, 2152, 3000, 3000, 3000, 632, 3000, 3000, 3000, 2087, 1411, 1409, 1894, 1908, 1179, 3000, 2430, 3000, 2057, 1892, 1475, 2071, 727, 3000, 2151, 2017, 3000, 3000, 2976, 3000, 2168, 2818, 3000, 3000, 3000, 3000, 1736, 3000, 3000, 3000, 3000, 3000, 3000, 3000, 3000, 3000, 3000, 1355, 3000, 3000, 3000, 3000, 3000, 3000, 3000, 3000, 3000, 3000, 2970, 809, 3000, 2759, 2073, 1626, 1504, 3000, 3000, 2536, 1762, 2805, 1285, 3000, 3000, 3000, 3000, 3000, 3000, 3000, 3000, 2823, 3000, 3000, 3000, 2486, 3000, 2891, 3000, 1748, 3000, 3000, 2351, 837, 2546, 3000, 3000, 3000, 3000, 3000, 2546, 3000, 3000, 3000, 1300, 3000, 3000, 2837, 3000, 2852, 3000, 3000, 2692, 3000, 3000, 2708, 3000, 2530, 1685, 3000, 2615, 3000, 3000, 3000, 3000, 3000, 1993, 3000, 3000, 3000, 2711, 3000, 3000, 3000, 3000, 2600, 1403, 1422, 2144, 3000, 3000, 3000, 3000, 3000, 3000, 3000, 3000, 3000, 1344, 2514, 1060, 3000, 3000, 3000, 3000, 3000, 2515, 3000, 3000, 3000, 3000, 3000, 3000, 1223, 3000, 3000, 3000, 3000, 3000, 3000, 3000, 3000, 1726, 2612, 3000, 1006, 3000, 3000, 3000, 3000, 3000, 3000, 1903, 3000, 3000, 3000, 3000, 1809, 1944, 3000, 2814, 2923, 3000, 3000, 3000, 3000, 1999, 2244, 2982, 3000, 3000, 3000, 3000, 3000, 3000, 1292, 3000, 1964, 3000, 3000, 3000, 3000, 3000, 3000, 3000, 2217, 3000, 3000, 3000, 1915, 3000, 3000, 3000, 3000, 3000, 3000, 2853, 3000, 3000, 3000, 1598, 3000, 2383, 3000, 3000, 3000, 3000, 3000, 3000, 3000, 3000, 3000, 3000, 3000, 3000, 3000, 3000, 3000, 3000, 2994, 1779, 3000, 3000, 3000, 3000, 3000, 2270, 2673, 3000, 3000, 3000, 3000, 3000, 3000, 3000, 3000, 3000, 3000, 3000, 3000, 3000, 1855, 3000, 2540, 3000, 3000, 3000, 3000, 2058, 3000, 3000, 3000, 3000, 3000, 3000, 1695, 2779, 3000, 3000, 3000, 3000, 3000, 3000, 3000, 3000, 3000, 3000, 592, 710, 3000, 3000, 3000, 3000, 3000, 3000, 3000, 3000, 3000, 1867, 3000, 3000, 3000, 3000, 3000, 3000, 3000, 2301, 3000, 3000, 3000, 3000, 3000, 3000, 3000, 3000, 3000, 3000, 3000, 3000, 3000, 3000, 3000, 3000, 3000, 1628, 3000, 1682, 3000, 2362, 3000, 3000, 3000, 3000, 3000, 3000, 3000, 3000, 3000, 3000, 3000, 3000, 3000, 3000, 3000, 3000, 3000, 2681, 3000, 3000, 3000, 3000, 3000, 3000, 1731, 3000, 1144, 3000, 3000, 2805, 2366, 1997, 3000, 1243, 2126, 3000, 3000, 3000, 3000, 972, 3000, 3000, 3000, 3000, 3000, 3000, 3000, 1537, 3000, 3000, 1943, 3000, 3000, 3000, 3000, 3000, 3000, 3000, 3000, 3000, 3000, 3000, 3000, 3000, 3000, 2830, 3000, 3000, 2227, 3000, 3000, 1920, 3000, 3000, 3000, 3000, 1710, 714, 3000, 3000, 3000, 3000, 3000, 3000, 3000, 3000, 3000, 1468, 3000, 3000, 3000, 2120, 3000, 2825, 3000, 2687, 2113, 3000, 3000, 3000, 3000, 1489, 848, 3000, 2906, 3000, 3000, 3000, 3000, 3000, 3000, 3000, 3000, 3000, 3000, 3000, 3000, 3000, 3000, 2186, 3000, 3000, 3000, 3000, 3000, 3000, 2794, 3000, 3000, 3000, 3000, 1992, 3000, 3000, 3000, 3000, 2789, 3000, 3000, 3000, 3000, 3000, 3000, 2992, 3000, 787, 3000, 3000, 3000, 3000, 3000, 3000, 3000, 3000, 3000, 2885, 3000, 2108, 3000, 3000, 937, 3000, 2051, 1543, 3000, 3000, 724, 3000, 3000, 3000, 3000, 3000, 3000, 1845, 3000, 3000, 1202, 3000, 3000, 3000, 3000, 3000, 3000, 3000, 3000, 2690, 1599, 3000, 3000, 3000, 3000, 3000, 1866, 3000, 3000, 2398, 3000, 1050, 3000, 3000, 3000, 2675, 3000, 3000, 3000, 3000, 3000, 3000, 3000, 3000, 3000, 3000, 3000, 3000, 2859, 3000, 928, 2592, 2415, 1218, 3000, 3000, 2817, 2593, 3000, 3000, 3000, 3000, 3000, 3000, 3000, 3000, 3000, 1230, 603, 3000, 3000, 3000, 3000, 2387, 2940, 3000, 3000, 3000, 3000, 3000, 2164, 3000, 3000, 3000, 3000, 3000, 2923, 3000, 3000, 3000, 3000, 3000, 2118, 3000, 3000, 1934, 3000, 3000, 3000, 3000, 3000, 3000, 2749, 789, 3000, 2165, 3000, 3000, 3000, 1783, 3000, 3000, 3000, 3000, 3000, 3000, 3000, 3000, 3000, 3000, 3000, 3000, 3000, 3000, 3000, 3000, 2861, 3000, 3000, 3000, 3000, 3000, 3000, 2560, 3000, 2641, 2971, 3000, 3000, 3000, 2295, 1976, 3000, 3000, 3000, 1607, 3000, 1486, 1319, 3000, 2720, 3000, 1726, 3000, 2477, 3000, 3000, 2615, 3000, 3000, 2019, 3000, 2405, 3000, 3000, 3000, 3000, 3000, 3000, 3000, 2737, 2076, 3000, 3000, 3000, 3000, 3000, 3000, 3000, 3000, 2118, 1402, 3000, 3000, 3000, 2125, 3000, 3000, 3000, 3000, 2367, 3000, 3000, 3000, 3000, 3000, 3000, 3000, 3000, 1856, 3000, 3000, 3000, 3000, 3000, 3000, 3000, 3000, 3000, 3000, 3000, 3000, 3000, 3000, 2651, 2522, 3000, 1570, 3000, 3000, 3000, 3000, 3000, 3000, 3000, 3000, 3000, 3000, 3000, 2567, 1188, 3000, 3000, 1575, 1065, 3000, 3000, 3000, 3000, 3000, 3000, 3000, 3000, 3000, 3000, 3000, 3000, 3000, 3000, 3000, 3000, 3000, 3000, 3000, 3000, 2735, 3000, 3000, 3000, 3000, 2949, 3000, 3000, 3000, 3000, 3000, 2174, 3000, 2133, 3000, 3000, 3000, 2524, 3000, 3000, 2489, 690, 1564, 3000, 3000, 3000, 3000, 3000, 3000, 3000, 3000, 3000, 3000, 3000, 3000, 3000, 2298, 3000, 3000, 3000, 3000, 3000, 3000, 3000, 2602, 3000, 3000, 3000, 3000, 3000, 3000, 3000, 3000, 3000, 3000, 3000, 3000, 3000, 2400, 3000, 3000, 3000, 3000, 3000, 3000, 3000, 3000, 3000, 3000, 3000, 3000, 3000, 3000, 3000, 3000, 3000, 3000, 3000, 3000, 3000, 1798, 3000, 3000, 2270, 3000, 1008, 3000, 3000, 3000, 3000, 2771, 3000, 3000, 3000]\n"
          ]
        }
      ]
    },
    {
      "cell_type": "code",
      "metadata": {
        "colab": {
          "base_uri": "https://localhost:8080/"
        },
        "id": "lalS9QEbiqnw",
        "outputId": "5998dc32-0880-42cf-d99a-23fb64e52738"
      },
      "source": [
        "print(returns)"
      ],
      "execution_count": null,
      "outputs": [
        {
          "output_type": "stream",
          "name": "stdout",
          "text": [
            "[-5, -5, -5, -4, -5, -5, -5, -5, -5, -5, -5, -5, -5, -5, -5, -5, -5, -5, -5, -4, -5, -5, -5, -5, -5, -5, -5, -5, -5, -5, -5, -5, -5, -5, -5, -5, -5, -5, -5, -5, -5, -5, -5, -5, -5, -5, -5, -5, -5, -5, -5, -5, -5, -5, -5, -5, -5, -5, -5, -5, -5, -5, -5, -5, -5, -5, -5, -4, -5, -5, -5, -4, -5, -5, -5, -5, -5, -5, -5, -5, -5, -5, -5, -5, -5, -5, -5, -5, -5, -5, -5, -5, -5, -5, -5, -5, -5, -5, -5, -4, -5, -5, -5, -5, -5, -5, -5, -5, -5, -5, -5, -5, -5, -4, -5, -4, -5, -4, -5, -5, -5, -5, -5, -5, -5, -5, -5, -5, -5, -5, -5, -5, -5, -5, -5, -5, -5, -5, -5, -5, -5, -5, -5, -3, -4, -5, -5, -5, -5, -5, -5, -5, -5, -5, -5, -5, -5, -5, -5, -5, -5, -5, -4, -5, -5, -5, -5, -5, -5, -5, -5, -5, -5, -4, -5, -5, -5, -5, -5, -5, -5, -5, -5, -5, -5, -5, -5, -5, -4, -5, -5, -5, -5, -5, -4, -5, -4, -5, -5, -5, -5, -5, -5, -3, -5, -5, -5, -5, -5, -5, -5, -5, -5, -5, -5, -5, -4, -5, -5, -4, -5, -5, -5, -5, -5, -5, -5, -5, -5, -5, -5, -5, -5, -5, -4, -5, -5, -4, -5, -5, -5, -4, -5, -5, -5, -5, -5, -5, -5, -4, -5, -5, -5, -5, -5, -4, -5, -5, -5, -5, -5, -5, -5, -5, -5, -5, -5, -5, -5, -5, -5, -5, -5, -4, -5, -5, -5, -4, -4, -5, -5, -5, -5, -5, -5, -5, -5, -5, -5, -3, -5, -5, -5, -5, -5, -5, -5, -5, -5, -5, -5, -5, -5, -4, -5, -5, -5, -5, -5, -4, -5, -5, -5, -5, -5, -5, -5, -4, -5, -5, -5, -5, -5, -5, -5, -5, -5, -5, -5, -5, -5, -5, -5, -5, -3, -5, -5, -5, -5, -5, -5, -5, -5, -5, -5, -5, -5, -4, -5, -5, -4, -5, -5, -3, -5, -5, -5, -5, -3, -5, -5, -5, -5, -5, -5, -5, -5, -5, -4, -5, -5, -5, -5, -5, -5, -5, -5, -5, -5, -5, -4, -5, -5, -5, -5, -5, -5, -5, -5, -5, -4, -5, -5, -5, -5, -5, -5, -5, -5, -5, -5, -5, -5, -5, -5, -5, -5, -5, -5, -5, -5, -5, -5, -5, -5, -5, -5, -5, -5, -4, -5, -5, -5, -5, -5, -5, -4, -5, -5, -5, -5, -5, -5, -4, -5, -5, -5, -4, -5, -5, -5, -5, -5, -5, -5, -5, -5, -5, -5, -5, -5, -4, -5, -5, -4, -5, -5, -4, -4, -5, -5, -5, -5, -5, -5, -5, -5, -5, -5, -5, -5, -5, -4, -5, -5, -5, -4, -5, -5, -5, -5, -5, -5, -5, -5, -5, -5, -5, -5, -5, -5, -5, -3, -5, -4, -5, -5, -5, -5, -5, -5, -5, -5, -5, -5, -5, -5, -5, -5, -5, -5, -5, -5, -4, -4, -5, -5, -5, -5, -5, -3, -5, -5, -5, -3, -5, -5, -5, -5, -5, -5, -5, -5, -5, -5, -5, -4, -4, -5, -5, -5, -5, -5, -5, -5, -5, -5, -5, -5, -5, -5, -4, -4, -5, -5, -4, -5, -5, -5, -5, -5, -4, -5, -5, -5, -5, -5, -5, -5, -5, -5, -5, -5, -5, -5, -5, -5, -5, -5, -5, -4, -5, -5, -5, -5, -5, -5, -5, -4, -5, -5, -5, -4, -5, -4, -5, -5, -4, -5, -5, -5, -5, -5, -5, -5, -5, -5, -5, -5, -5, -5, -5, -5, -5, -5, -5, -5, -5, -5, -5, -5, -4, -5, -5, -5, -5, -5, -5, -5, -5, -5, -5, -5, -5, -5, -5, -5, -4, -4, -5, -5, -5, -5, -5, -5, -5, -4, -5, -5, -5, -4, -4, -4, -5, -4, -5, -5, -5, -5, -5, -5, -5, -5, -5, -5, -5, -5, -4, -5, -5, -5, -5, -5, -4, -5, -5, -5, -5, -5, -5, -4, -5, -5, -5, -5, -5, -5, -5, -5, -5, -4, -5, -5, -5, -5, -5, -5, -4, -5, -5, -5, -5, -5, -5, -5, -5, -4, -5, -5, -5, -5, -5, -5, -5, -5, -5, -5, -5, -5, -5, -5, -5, -5, -5, -4, -5, -5, -5, -5, -5, -5, -5, -5, -5, -5, -5, -5, -5, -4, -5, -5, -5, -5, -4, -5, -5, -5, -5, -5, -5, -5, -5, -5, -5, -5, -5, -5, -5, -5, -5, -5, -5, -5, -5, -5, -5, -5, -5, -5, -5, -5, -5, -5, -5, -5, -5, -5, -5, -5, -5, -5, -5, -5, -4, -5, -5, -5, -5, -5, -5, -3, -5, -5, -5, -5, -5, -5, -4, -5, -5, -5, -4, -5, -5, -5, -5, -5, -5, -5, -5, -5, -5, -5, -5, -5, -5, -5, -5, -5, -5, -5, -5, -5, -5, -5, -5, -5, -4, -5, -5, -5, -5, -5, -5, -5, -5, -5, -5, -4, -5, -5, -5, -5, -5, -5, -5, -5, -5, -4, -5, -4, -5, -5, -5, -5, -5, -5, -5, -5, -3, -5, -4, -5, -5, -5, -4, -5, -5, -5, -4, -5, -5, -5, -5, -5, -5, -5, -5, -5, -5, -5, -5, -5, -5, -5, -5, -5, -5, -5, -5, -5, -5, -5, -5, -4, -5, -5, -5, -5, -4, -5, -5, -5, -5, -4, -5, -5, -5, -5, -5, -5, -4, -5, -5, -5, -4, -5, -5, -5, -5, -5, -5, -5, -5, -5, -5, -5, -5, -5, -5, -5, -5, -5, -5, -5, -4, -5, -5, -5, -5, -5, -4, -4, -5, -5, -5, -5, -5, -5, -5, -5, -5, -5, -5, -5, -5, -5, -5, -5, -5, -5, -5, -4, -5, -5, -5, -5, -5, -5, -5, -5, -5, -5, -4, -5, -5, -5, -5, -5, -5, -5, -5, -5, -5, -5, -5, -5, -5, -4, -5, -5, -4, -5, -5, -5, -5, -5, -5, -4, -5, -5, -5, -5, -5, -5, -5, -5, -5, -5, -5, -5, -5, -5, -5, -5, -5, -5, -5, -5, -5, -5, -5, -5, -4, -5, -5, -5, -5, -4, -5, -5, -5, -5, -5, -5, -5, -5, -4, -4, -5, -5, -5, -5, -5, -5, -5, -5, -5, -3, -5, -5, -5, -5, -4, -5, -5, -5, -5, -4, -5, -5, -5, -5, -5, -5, -5, -5, -5, -5, -5, -5, -5, -5, -5, -5, -5, -5, -4, -5, -5, -5, -5, -5, -5, -5, -5, -5, -5, -5, -5, -5, -5, -5, -5, -5, -5, -5, -5, -4, -5, -5, -5, -5, -5, -5, -5, -5, -5, -5, -4, -5, -3, -5, -5, -5, -5, -5, -5, -5, -5, -5, -5, -5, -5, -3, -5, -5, -5, -5, -5, -4, -5, -3, -4, -4, -5, -5, -5, -5, -5, -5, -5, -5, -5, -5, -5, -5, -5, -5, -5, -5, -5, -4, -5, -5, -3, -5, -4, -4, -5, -5, -4, -5, -5, -5, -4, -5, -5, -5, -5, -5, -5, -5, -5, -5, -5, -5, 1, -5, -5, -4, -5, -5, -5, -5, -5, -5, -5, -5, -4, -4, -5, -5, -5, -5, -5, -5, -5, -5, -5, -5, -5, -5, -5, -5, -5, -5, -5, -5, -5, -5, -5, -5, -5, -5, -5, -3, -5, -5, -5, -5, -5, -5, -5, -5, -3, -5, -5, -5, -5, -4, -5, -5, -5, -5, -5, -4, -5, -5, -5, -5, -5, -5, -5, -5, -4, -5, -5, -5, -5, -5, -5, -4, -5, -5, -5, -5, -5, -5, -5, -5, -5, -5, -5, -5, -5, -5, -5, -5, -5, -5, -5, -5, -5, -5, -5, -5, -5, -5, -5, -4, -5, -5, -5, -5, -5, -5, -5, -5, -5, -5, -5, -5, -5, -4, -5, -5, -5, -5, -5, -5, -4, -4, -5, -5, -5, -5, -5, -5, -5, -4, -5, -5, -5, -5, -5, -5, -5, -5, -5, -5, -4, -5, -5, -5, -5, -4, -5, -4, -5, -5, -5, -5, -5, -5, -5, -5, -5, -5, -5, -5, -5, -5, -5, -5, -4, -5, -4, -5, -5, -5, -5, -5, -5, -5, -5, -5, -5, -5, -4, -5, -5, -5, -5, -5, -5, -5, -5, -5, -5, -5, -5, -5, -5, -5, -5, -5, -5, -5, -5, -5, -5, -5, -5, -5, -5, -5, -5, -4, -4, -4, -5, -5, -4, -5, -5, -5, -5, -5, -2, -5, -5, -5, -5, -5, -5, -5, -5, -5, -5, -4, -5, -5, -5, -5, -5, -5, -5, -5, -5, -4, -5, -5, -5, -5, -5, -5, -5, -5, -5, -5, -5, -5, -5, -5, -4, -5, -5, -5, -5, -5, -5, -5, -5, -5, -5, -5, -5, -5, -5, -5, -5, -5, -5, -5, -5, -5, -5, -5, -4, -4, -5, -5, -5, -4, -5, -5, -5, -4, -5, -5, -4, -5, -5, -5, -5, -5, -5, -5, -5, -5, -5, -5, -5, -5, -5, -5, -5, -5, -5, -5, -4, -5, -5, -5, -5, -5, -4, -5, -5, -5, -5, -4, -5, -5, -5, -5, -5, -5, -5, -5, -5, -5, -5, -5, -5, -5, -5, -4, -5, -5, -5, -5, -5, -4, -5, -5, -5, -5, -5, -5, -5, -5, -4, -5, -4, -5, -5, -5, -5, -5, -5, -5, -5, -5, -5, -5, -5, -4, -5, -5, -5, -5, -4, -5, -5, -5, -5, -5, -4, -5, -5, -5, -4, -5, -5, -5, -5, -4, -4, -5, -5, -5, -5, -5, -5, -5, -3, -5, -5, -5, -5, -5, -5, -4, -5, -3, -5, -5, -5, -4, -5, -5, -5, -5, -5, -5, -5, -4, -4, -5, -5, -5, -5, -4, -5, -5, -5, -5, -5, -5, -5, -5, -5, -4, -5, -5, -5, -5, -4, -5, -5, -5, -5, -5, -5, -5, -5, -3, -5, -5, -5, -5, -4, -3, -5, -4, -5, -5, -5, -5, -5, -5, -5, -5, -5, -4, -5, -5, -5, -5, -5, -5, -5, -5, -4, -5, -5, -5, -5, -5, -5, -5, -5, -5, -5, -5, -5, -5, -5, -4, -5, -5, -5, -4, -5, -4, -5, -5, -5, -5, -5, -5, -5, -5, -5, -5, -5, -5, -5, -5, -5, -5, -4, -5, -5, -5, -5, -5, -5, -4, -5, -3, -5, -5, -5, -5, -4, -5, -5, -5, -5, -3, -5, -5, -5, -5, -5, -4, -5, -5, -5, -5, -5, -5, -4, -5, -5, -5, -5, -4, -5, -5, -5, -5, -5, -5, -5, -5, -4, -5, -5, -5, -5, -5, -5, -5, -5, -5, -5, -5, -4, -5, -5, -5, -5, -5, -3, -5, -5, -5, -5, -5, -5, -5, -5, -4, -5, -5, -5, -5, -5, -5, -5, -5, -5, -5, -5, -5, -5, -5, -5, -5, -5, -5, -5, -5, -5, -5, -4, -4, -5, -5, -5, -5, -5, -5, -5, -5, -5, -5, -5, -5, -5, -5, -5, -5, -4, -5, -5, -5, -5, -5, -5, -4, -5, -5, -4, -5, -5, -5, -5, -5, -5, -5, -5, -5, -5, -4, -5, -5, -5, -5, -5, -5, -5, -5, -5, -5, -5, -5, -5, -4, -5, -5, -5, -5, -5, -5, -5, -4, -5, -5, -5, -5, -5, -5, -5, -4, -5, -5, -5, -5, -5, -5, -5, -3, -5, -5, -5, -5, -4, -5, -4, -5, -5, -5, -4, -5, -4, -4, -5, -5, -5, -4, -5, -5, -5, -5, -5, -5, -5, -4, -5, -5, -5, -5, -5, -5, -5, -5, -5, -5, -5, -5, -5, -5, -5, -5, -5, -5, -4, -5, -4, -5, -5, -5, -5, -5, -5, -5, -5, -5, -4, -5, -5, -5, -5, -4, -5, -5, -5, -5, -5, -5, -5, -5, -5, -5, -5, -5, -5, -5, -5, -5, -5, -5, -5, -5, -4, -5, -5, -5, -5, -5, -5, -5, -5, -5, -5, -5, -5, -5, -4, -5, -5, -4, -5, -3, -5, -5, -4, -5, -5, -4, -5, -5, -5, -5, -4, -5, -5, -3, -5, -5, -3, -5, -5, -5, -5, -5, -4, -5, -5, -4, -5, -5, -3, -3, -4, -5, -5, -5, -5, -5, -4, -3, -5, -5, -1, -5, -5, -5, -2, -5, -5, -5, -5, -4, -4, -5, -4, -5, -5, -2, -5, -5, -5, -5, -5, -5, -5, -4, -4, -5, -3, -5, -5, -4, -4, -5, -5, -5, -5, -5, -5, -4, -5, -5, -4, -3, -4, -4, -4, -5, -3, -5, -4, -4, -5, -5, -5, -5, -5, -5, -5, -3, -4, -2, -2, -5, -2, -5, -3, -4, -5, -5, -3, -5, -4, -5, -5, -3, -1, -5, -2, -3, -1, -4, -1, -5, -4, -5, -5, -5, -5, 0, -3, -4, -2, -4, -3, -5, -4, -4, -3, -4, -5, -5, -1, -5, -5, -1, -3, 1, -5, -3, -5, -5, -3, -3, -1, -4, -2, -2, -5, -5, -2, -3, -3, -4, -5, -4, -2, -4, -5, -4, -4, -5, -5, -2, -5, -3, -3, -3, -4, -5, -4, -4, -5, -5, -4, -5, -3, -5, -5, -5, -4, -4, -5, -5, -5, -3, -3, -3, -5, -5, -5, -5, -5, -5, -3, -5, -5, -5, -4, -5, -4, -5, -5, -5, -3, -5, -5, -5, -5, -5, -2, -4, -5, -4, -5, -3, -5, -5, -4, -5, -5, -5, -5, -5, -5, -5, -5, -4, -2, -5, -5, -5, -5, -4, -5, -5, -5, -4, -5, -4, -3, -4, -5, -5, -5, -4, -5, -5, -5, -5, -4, -4, -5, -5, -5, -4, -4, -4, -5, -5, -5, -5, -4, -5, -5, -5, -5, -5, -5, -5, -5, -5, -5, -5, -5, -5, -5, -3, -3, -1, -3, -4, -5, -4, -4, -5, -4, -5, -5, -4, -5, -5, -5, -5, -5, -5, -5, -5, -5, -1, -4, -4, -5, -5, -2, -3, -1, -2, -3, -1, -5, -2, -5, 0, -5, -5, -5, -4, -5, -5, -5, -5, -5, -5, -4, -4, -5, -5, -5, -2, -5, -3, -3, -5, -4, -5, -5, -3, -5, -5, -5, -4, -5, -5, -5, -5, -5, -5, -5, -3, -2, -5, -3, -3, -5, -5, -4, -4, -3, -1, -1, -1, -4, -4, -1, -5, -5, -5, -5, -3, -1, -5, -5, -5, -5, -4, -5, -2, -5, -5, -4, -3, -5, -4, -5, 1, -2, -5, -4, -5, -5, -5, -5, 0, -5, -4, -5, -5, -5, -4, -5, -5, 1, -1, -5, -4, -5, -5, -5, -4, -5, -4, -2, -3, -1, -4, -3, -3, -3, -5, -5, -5, -5, -3, -5, -3, -5, -5, -5, -3, -5, -5, -2, -5, -4, -5, -3, -5, -5, -5, -5, -5, -5, -4, -4, -3, -3, -2, -5, -5, -5, -4, -5, -4, 1, -5, -1, -2, -3, -4, 0, -2, -5, -4, -5, -4, -5, -5, -5, -2, 0, -2, -5, -3, -3, -4, -1, -5, -1, 0, -1, -4, -5, -4, -2, -5, -5, -1, -4, -4, -1, -2, -2, -3, -4, -5, -5, -1, -2, -5, -4, -2, -2, -4, -5, -5, -5, -4, -3, -4, -5, -3, -5, -5, -4, -2, -5, -5, -5, -5, -3, -2, -5, -2, -4, -3, -1, -2, -4, -3, 0, -5, -1, -1, -5, -2, -5, -5, -3, -4, -4, -5, -4, 0, -5, -5, -5, -2, -5, -2, -4, -4, -3, 1, -3, -5, -5, -3, -2, -5, -5, -5, -5, -4, -4, -4, -5, -5, -5, -5, -1, -5, -4, -5, -5, -2, -4, -5, -5, -1, -5, -5, -1, -5, -5, -5, -4, -1, -4, -5, 0, -3, -2, -4, -5, -4, -4, -5, -3, -5, -3, -3, -4, -5, -3, -5, -1, -1, -4, -5, -1, -1, -1, -5, -5, -2, -3, -2, -4, -2, -5, -3, -4, -3, -2, -1, -2, -5, 0, -1, -5, -2, -3, 1, -2, -4, -5, -5, -3, 1, -2, -2, -1, -4, -4, -4, -5, -3, -5, -3, -2, -5, -4, -1, -5, -5, -3, -3, -5, 2, 0, -1, -5, -5, 0, -2, -5, -4, -2, -5, -5, -5, -5, -5, -4, -5, 1, -1, -3, -5, -5, -2, -1, -5, -5, -4, -5, -4, -1, -4, -5, -3, -2, -5, -3, -4, -1, -3, -2, -3, -4, -4, -1, -2, -1, -4, -5, -5, -4, -4, -5, -5, -5, -4, -5, -5, -5, -5, -3, -5, -4, -4, -2, -4, 4, -3, -5, -5, -3, -5, -2, -4, -1, -5, -4, -1, -3, -1, -5, -5, -5, -2, -4, -2, -5, -3, -5, -5, -4, -1, -1, -5, -5, -5, -4, -4, -5, -4, -5, -5, -5, -1, -2, -1, -4, -5, -2, -4, -5, -2, -5, -4, -1, -3, -5, -4, -5, -2, -1, -3, -1, -1, -1, -2, -1, -2, -1, 0, -1, 0, -2, -5, -3, -3, -5, -2, -4, 0, -2, -1, -3, -5, -5, -5, -5, 0, -5, -3, -5, -3, -1, -1, -4, -1, -4, -2, -4, 0, -2, -1, 0, -2, -4, -2, -2, -2, -2, -2, -5, -1, 0, -1, -1, -3, -3, -5, -4, -2, -1, -1, -4, -2, -2, -3, -5, -5, 0, -3, -2, -5, -4, -5, -1, -3, -4, -5, -2, -4, -5, -3, -2, 0, 0, -2, -1, -2, 0, -1, -2, -1, -2, -2, -2, -3, -5, -5, -4, 3, -4, -1, -1, -5, -5, 0, -3, 0, -1, -1, -1, -1, -3, -1, -1, -2, -3, -5, -5, 1, -5, -4, -2, -1, -1, 1, -2, -5, -5, -2, -2, -4, 1, -1, -5, -5, -1, -2, -2, -4, 1, -1, -2, 0, -5, -1, 0, -5, -1, -5, -5, -3, -2, -1, -1, -2, -5, 0, 1, 1, -1, 0, -3, 0, 1, -4, -1, 0, 0, -5, -1, 1, -5, 1, -5, 1, -2, -3, -1, -3, -1, 0, -2, 0, -3, -2, -3, 1, 0, -2, 0, 0, -3, -1, -1, 2, -4, -5, -2, -2, 0, -1, -1, 1, 0, 0, -2, -1, -1, 1, 1, -1, 2, -3, -2, 1, -4, -3, 1, -1, 0, -2, -3, -3, -2, 1, -3, -3, -1, -2, -5, -3, -1, -2, -2, -2, -1, -3, -1, -1, -5, 0, -3, -1, -3, -2, -1, -2, -5, -4, -1, -3, -4, -2, -4, -2, 0, -3, -2, -3, -2, -5, -5, -3, 1, -3, -3, -1, -3, -3, -1, 0, -1, -5, -3, -1, -1, 1, -1, -5, -5, -2, -4, -3, -3, -5, -5, 0, -5, -4, -5, -1, -4, -5, -5, -5, -4, -2, -1, -4, -1, 0, -5, -5, -1, -1, -3, -5, -5, -1, -3, -5, -2, -5, -4, -4, 0, -2, -1, -4, -3, -1, -4, -2, -4, -1, -3, -3, -1, -4, -5, -3, -5, -5, -5, -3, -3, -4, -3, -5, -5, -5, -5, -4, -4, -5, -3, -1, -3, 0, -2, -4, -3, -2, -4, -5, -5, -5, -5, -5, -4, -4, -4, -4, -4, -2, -3, 1, -5, -2, -4, 1, -1, -4, -2, -5, -3, -3, -4, -1, -5, 0, -5, -5, -5, -3, -2, -5, -5, 1, -3, 1, -3, -1, -5, -3, -3, -1, -5, -4, -1, -2, -5, -5, -4, -5, -5, -5, -1, -5, -3, -5, -3, -5, -5, -5, -3, -5, -5, -4, -2, -5, -2, -5, -5, -3, -3, -4, -1, -5, -1, -3, -1, 0, -2, -2, -2, -4, -4, -2, -5, -2, -1, -2, -2, -3, -4, -1, -3, -4, -3, -5, -5, -3, -5, -4, -5, -5, -2, -3, -5, -4, -5, -5, -1, -2, 0, -1, -3, -2, -4, -1, -4, -3, -4, 0, -5, -2, -5, -3, -5, -4, -4, -4, -5, -4, 0, 0, -2, 0, -3, -5, -2, 0, -2, -5, -4, -1, -4, -1, -5, -2, -2, -4, -4, -1, -5, 2, -5, -5, -1, -5, -2, -3, -3, -1, 0, -4, -3, -2, -2, -5, -3, 2, -1, -3, -5, -5, -4, -5, -2, -4, 0, -3, -4, 0, 0, -4, -4, -5, -3, -5, -3, -3, -2, -1, -2, -5, -3, -1, 0, -2, -1, -2, -5, -1, -2, -1, -1, -4, 0, -1, 0, -5, -5, -1, -5, 0, -3, 0, -3, 0, -2, -5, -3, -1, -2, -1, -4, -5, -2, -5, -5, -2, -4, -2, -1, -5, -4, -4, -1, -1, -3, -3, 0, -4, -5, 0, -4, 2, -3, -1, -1, -2, -1, -3, -5, -2, -3, -1, -5, 0, -3, 2, -3, -3, -2, -5, -1, -2, 2, -5, -4, -2, -4, -2, -1, -4, -2, -2, -2, -2, -2, 1, -4, 0, -1, -3, -4, -2, -5, -5, -1, 0, 0, 1, -2, -5, -5, 1, -2, -1, -3, -1, -3, -3, -2, 0, 0, -1, 0, 1, -5, 0, -4, -3, -2, 0, -3, -4, -4, -3, -2, -4, 0, -3, -5, -5, -1, -2, -1, -2, -2, -1, -2, 0, -3, -1, -5, -5, -3, -4, 0, -1, -3, 1, -2, -2, -2, -5, 0, -4, -1, 2, -2, -1, 0, -5, 0, -1, -1, -2, -1, -2, 1, -1, -3, -2, -3, 1, -1, -2, -1, -2, -3, -5, -3, -5, -3, -5, 0, -1, -4, -4, -3, -2, -2, -3, -4, -3, -1, -1, -3, 1, -2, 0, -2, -4, -2, -3, -2, 0, -1, -4, -5, -1, -5, 0, -1, -3, -5, -5, 1, -5, -5, -1, 1, -1, -1, -5, -3, 0, 0, -3, -1, 0, -3, -5, 1, 1, -3, -1, -3, 0, -3, -2, 0, -4, -3, -1, 0, -1, -3, -2, 0, -4, -2, -3, -3, -1, -1, -5, 0, -2, -2, -1, -5, -5, -2, -1, -4, -2, -1, 0, 1, 0, 0, -5, -2, -1, -2, -5, -3, -5, -1, -5, -5, -4, -2, -2, -1, -5, -5, -2, -5, -3, -2, 0, -2, -4, -1, -1, -1, -2, -2, -1, -4, -4, -2, -5, -3, -1, -1, 0, 1, -3, -5, -1, -2, -3, -4, -5, -2, -4, 0, -1, -5, -1, -3, -2, -1, -2, -1, -5, -2, -5, -2, -2, -3, -2, -1, -2, -3, -2, 0, -4, -1, -3, -1, -3, -5, -1, -5, -4, -2, -3, -5, -1, -2, -2, -4, -2, -3, -3, -1, -2, -5, -1, -1, -3, 0, 0, 0, 1, -3, -5, -5, -4, 0, -2, -3, 0, -5, -1, -2, -5, -3, -5, -1, -2, 0, -5, 1, 0, -4, 0, -1, 1, 0, -3, -3, 0, -3, -1, -5, -2, -5, -3, -4, -5, 0, -1, -5, -4, -1, -3, -1, 0, -2, -1, -2, 0, -1, -4, -5, -2, -1, -1, -2, -4, -4, -3, 0, -2, -2, -1, -4, 0, -4, -4, -1, -3, -4, -2, -2, -2, 0, -4, -5, 0, -3, -5, -2, -2, -2, -3, -2, -3, -5, -5, -2, -5, -2, -3, -2, -5, -3, -2, -3, -2, 0, -4, -2, -3, -4, -1, 0, -1, 1, -1, -2, -3, -4, -1, -3, -2, -1, -1, -2, -5, 0, -3, -4, -3, -2, 1, -4, -5, -3, 0, -2, -5, -2, -4, -5, -4, -4, -2, -4, -3, -5, -1, -3, -5, -4, 0, -5, -2, -5, -1, -2, -2, -1, -2, 0, -1, -5, -3, 0, 0, -3, 0, -1, -2, -2, -2, -5, -5, -1, 1, -1, -5, -4, 0, -2, -4, -5, -4, -2, 1, -1, -2, -1, -3, 0, -5, -1, -1, -2, -3, -1, -4, -2, 1, -3, -3, 0, -3, 0, 0, -5, -4, -4, -5, 0, -2, -2, -4, -3, -3, 0, -2, -2, -3, -3, -4, -5, 0, -2, -5, -5, -3, -4, 0, -2, -1, -3, -4, -1, -1, -2, 1, 0, -3, -4, 3, -1, -1, 0, -1, 2, -5, -1, -4, -2, -1, -5, -3, -2, -1, -2, -3, -5, -2, -5, -2, -3, -1, -5, -4, -2, -4, -5, -5, -4, -4, -3, -2, -1, 1, -4, -3, -3, -4, 0, -2, -2, -5, 1, -3, 1, -2, -1, -3, -2, -4, -2, 0, -2, -3, 1, -3, -2, -3, -2, 0, 0, -3, -4, -5, -2, -4, -4, -3, -1, -1, -2, -1, -1, -1, -2, -4, -1, 0, -3, -2, -4, -4, -1, -3, 0, -4, -1, -4, -5, -4, -5, -3, -1, -4, -3, -5, 0, -2, -2]\n"
          ]
        }
      ]
    },
    {
      "cell_type": "code",
      "metadata": {
        "id": "5H-_a2uojGhj"
      },
      "source": [
        "from numpy import savetxt\n",
        "savetxt('av_returns.csv', running_avg_returns, delimiter=',')"
      ],
      "execution_count": null,
      "outputs": []
    },
    {
      "cell_type": "code",
      "metadata": {
        "id": "fsHizPsVjx_T"
      },
      "source": [
        "savetxt('av_lens.csv', running_avg_lens, delimiter=',')"
      ],
      "execution_count": null,
      "outputs": []
    },
    {
      "cell_type": "code",
      "metadata": {
        "id": "8we_zzLKm0HA"
      },
      "source": [
        ""
      ],
      "execution_count": null,
      "outputs": []
    }
  ]
}